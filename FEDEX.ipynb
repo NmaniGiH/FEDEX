{
 "cells": [
  {
   "cell_type": "code",
   "execution_count": 1,
   "metadata": {
    "id": "bnUVLVvn6Sd9"
   },
   "outputs": [],
   "source": [
    "import pandas as pd"
   ]
  },
  {
   "cell_type": "code",
   "execution_count": 2,
   "metadata": {
    "id": "6wsL6Tl2JV6m"
   },
   "outputs": [],
   "source": [
    "df=pd.read_csv(r\"fedex.csv\")"
   ]
  },
  {
   "cell_type": "code",
   "execution_count": 3,
   "metadata": {
    "id": "mUJbNYz0JdLp"
   },
   "outputs": [],
   "source": [
    "df=df.sample(n=200000)"
   ]
  },
  {
   "cell_type": "code",
   "execution_count": 4,
   "metadata": {
    "colab": {
     "base_uri": "https://localhost:8080/"
    },
    "id": "q2X7MjK0JmL-",
    "outputId": "9d5b6694-d498-4f00-a0bc-515549d85726"
   },
   "outputs": [
    {
     "data": {
      "text/plain": [
       "(200000, 15)"
      ]
     },
     "execution_count": 4,
     "metadata": {},
     "output_type": "execute_result"
    }
   ],
   "source": [
    "df.shape"
   ]
  },
  {
   "cell_type": "code",
   "execution_count": 5,
   "metadata": {
    "colab": {
     "base_uri": "https://localhost:8080/"
    },
    "id": "5W9RvgBsKDzK",
    "outputId": "8616cc79-8e67-4881-a81f-f74095e54bbc"
   },
   "outputs": [
    {
     "data": {
      "text/plain": [
       "<bound method DataFrame.info of          Year  Month  DayofMonth  DayOfWeek  Actual_Shipment_Time  \\\n",
       "1039382  2008      2          21          4                 925.0   \n",
       "889189   2008      2           2          6                1745.0   \n",
       "3512646  2008      6           8          7                1150.0   \n",
       "973993   2008      2           8          5                1136.0   \n",
       "2736274  2008      5          19          1                 722.0   \n",
       "...       ...    ...         ...        ...                   ...   \n",
       "3075874  2008      6          26          4                 639.0   \n",
       "1037017  2008      2          25          1                1929.0   \n",
       "2684875  2008      5           1          4                 734.0   \n",
       "3547984  2008      6          19          4                 800.0   \n",
       "2801337  2008      5          16          5                1705.0   \n",
       "\n",
       "         Planned_Shipment_Time  Planned_Delivery_Time Carrier_Name  \\\n",
       "1039382                    930                   1054           9E   \n",
       "889189                    1740                   1905           WN   \n",
       "3512646                   1150                   1250           AA   \n",
       "973993                    1140                   1240           MQ   \n",
       "2736274                    725                    912           F9   \n",
       "...                        ...                    ...          ...   \n",
       "3075874                    640                    810           WN   \n",
       "1037017                   1934                   2040           9E   \n",
       "2684875                    735                    835           WN   \n",
       "3547984                    800                   1627           B6   \n",
       "2801337                   1705                   1840           MQ   \n",
       "\n",
       "         Carrier_Num  Planned_TimeofTravel  Shipment_Delay Source Destination  \\\n",
       "1039382         3774                  84.0            -5.0    CVG         DTW   \n",
       "889189           832                  85.0             5.0    LAX         SFO   \n",
       "3512646         1797                  60.0             0.0    ORD         STL   \n",
       "973993          3521                  60.0            -4.0    DFW         FSM   \n",
       "2736274          233                 167.0            -3.0    BNA         DEN   \n",
       "...              ...                   ...             ...    ...         ...   \n",
       "3075874           25                 150.0            -1.0    PVD         MDW   \n",
       "1037017         2983                  66.0            -5.0    DTW         CLE   \n",
       "2684875         1402                  60.0            -1.0    FLL         TPA   \n",
       "3547984          188                 327.0             0.0    SAN         JFK   \n",
       "2801337         4391                  95.0             0.0    ORD         HSV   \n",
       "\n",
       "         Distance  Delivery_Status  \n",
       "1039382       229              0.0  \n",
       "889189        337              0.0  \n",
       "3512646       258              0.0  \n",
       "973993        228              0.0  \n",
       "2736274      1013              0.0  \n",
       "...           ...              ...  \n",
       "3075874       842              0.0  \n",
       "1037017        95              0.0  \n",
       "2684875       197              0.0  \n",
       "3547984      2446              0.0  \n",
       "2801337       510              0.0  \n",
       "\n",
       "[200000 rows x 15 columns]>"
      ]
     },
     "execution_count": 5,
     "metadata": {},
     "output_type": "execute_result"
    }
   ],
   "source": [
    "df.info"
   ]
  },
  {
   "cell_type": "code",
   "execution_count": 6,
   "metadata": {
    "colab": {
     "base_uri": "https://localhost:8080/"
    },
    "id": "M6umDiVjKTxc",
    "outputId": "7a3aecb6-87b0-4881-dc0d-d174ec1f2248"
   },
   "outputs": [
    {
     "data": {
      "text/plain": [
       "Year                       int64\n",
       "Month                      int64\n",
       "DayofMonth                 int64\n",
       "DayOfWeek                  int64\n",
       "Actual_Shipment_Time     float64\n",
       "Planned_Shipment_Time      int64\n",
       "Planned_Delivery_Time      int64\n",
       "Carrier_Name              object\n",
       "Carrier_Num                int64\n",
       "Planned_TimeofTravel     float64\n",
       "Shipment_Delay           float64\n",
       "Source                    object\n",
       "Destination               object\n",
       "Distance                   int64\n",
       "Delivery_Status          float64\n",
       "dtype: object"
      ]
     },
     "execution_count": 6,
     "metadata": {},
     "output_type": "execute_result"
    }
   ],
   "source": [
    "df.dtypes"
   ]
  },
  {
   "cell_type": "code",
   "execution_count": 7,
   "metadata": {
    "colab": {
     "base_uri": "https://localhost:8080/",
     "height": 270
    },
    "id": "GgiBklGgKjlY",
    "outputId": "bfcc8e13-52d6-43e6-d9ec-278041abcd40"
   },
   "outputs": [
    {
     "data": {
      "text/html": [
       "<div>\n",
       "<style scoped>\n",
       "    .dataframe tbody tr th:only-of-type {\n",
       "        vertical-align: middle;\n",
       "    }\n",
       "\n",
       "    .dataframe tbody tr th {\n",
       "        vertical-align: top;\n",
       "    }\n",
       "\n",
       "    .dataframe thead th {\n",
       "        text-align: right;\n",
       "    }\n",
       "</style>\n",
       "<table border=\"1\" class=\"dataframe\">\n",
       "  <thead>\n",
       "    <tr style=\"text-align: right;\">\n",
       "      <th></th>\n",
       "      <th>Year</th>\n",
       "      <th>Month</th>\n",
       "      <th>DayofMonth</th>\n",
       "      <th>DayOfWeek</th>\n",
       "      <th>Actual_Shipment_Time</th>\n",
       "      <th>Planned_Shipment_Time</th>\n",
       "      <th>Planned_Delivery_Time</th>\n",
       "      <th>Carrier_Name</th>\n",
       "      <th>Carrier_Num</th>\n",
       "      <th>Planned_TimeofTravel</th>\n",
       "      <th>Shipment_Delay</th>\n",
       "      <th>Source</th>\n",
       "      <th>Destination</th>\n",
       "      <th>Distance</th>\n",
       "      <th>Delivery_Status</th>\n",
       "    </tr>\n",
       "  </thead>\n",
       "  <tbody>\n",
       "    <tr>\n",
       "      <th>1039382</th>\n",
       "      <td>2008</td>\n",
       "      <td>2</td>\n",
       "      <td>21</td>\n",
       "      <td>4</td>\n",
       "      <td>925.0</td>\n",
       "      <td>930</td>\n",
       "      <td>1054</td>\n",
       "      <td>9E</td>\n",
       "      <td>3774</td>\n",
       "      <td>84.0</td>\n",
       "      <td>-5.0</td>\n",
       "      <td>CVG</td>\n",
       "      <td>DTW</td>\n",
       "      <td>229</td>\n",
       "      <td>0.0</td>\n",
       "    </tr>\n",
       "    <tr>\n",
       "      <th>889189</th>\n",
       "      <td>2008</td>\n",
       "      <td>2</td>\n",
       "      <td>2</td>\n",
       "      <td>6</td>\n",
       "      <td>1745.0</td>\n",
       "      <td>1740</td>\n",
       "      <td>1905</td>\n",
       "      <td>WN</td>\n",
       "      <td>832</td>\n",
       "      <td>85.0</td>\n",
       "      <td>5.0</td>\n",
       "      <td>LAX</td>\n",
       "      <td>SFO</td>\n",
       "      <td>337</td>\n",
       "      <td>0.0</td>\n",
       "    </tr>\n",
       "    <tr>\n",
       "      <th>3512646</th>\n",
       "      <td>2008</td>\n",
       "      <td>6</td>\n",
       "      <td>8</td>\n",
       "      <td>7</td>\n",
       "      <td>1150.0</td>\n",
       "      <td>1150</td>\n",
       "      <td>1250</td>\n",
       "      <td>AA</td>\n",
       "      <td>1797</td>\n",
       "      <td>60.0</td>\n",
       "      <td>0.0</td>\n",
       "      <td>ORD</td>\n",
       "      <td>STL</td>\n",
       "      <td>258</td>\n",
       "      <td>0.0</td>\n",
       "    </tr>\n",
       "    <tr>\n",
       "      <th>973993</th>\n",
       "      <td>2008</td>\n",
       "      <td>2</td>\n",
       "      <td>8</td>\n",
       "      <td>5</td>\n",
       "      <td>1136.0</td>\n",
       "      <td>1140</td>\n",
       "      <td>1240</td>\n",
       "      <td>MQ</td>\n",
       "      <td>3521</td>\n",
       "      <td>60.0</td>\n",
       "      <td>-4.0</td>\n",
       "      <td>DFW</td>\n",
       "      <td>FSM</td>\n",
       "      <td>228</td>\n",
       "      <td>0.0</td>\n",
       "    </tr>\n",
       "    <tr>\n",
       "      <th>2736274</th>\n",
       "      <td>2008</td>\n",
       "      <td>5</td>\n",
       "      <td>19</td>\n",
       "      <td>1</td>\n",
       "      <td>722.0</td>\n",
       "      <td>725</td>\n",
       "      <td>912</td>\n",
       "      <td>F9</td>\n",
       "      <td>233</td>\n",
       "      <td>167.0</td>\n",
       "      <td>-3.0</td>\n",
       "      <td>BNA</td>\n",
       "      <td>DEN</td>\n",
       "      <td>1013</td>\n",
       "      <td>0.0</td>\n",
       "    </tr>\n",
       "  </tbody>\n",
       "</table>\n",
       "</div>"
      ],
      "text/plain": [
       "         Year  Month  DayofMonth  DayOfWeek  Actual_Shipment_Time  \\\n",
       "1039382  2008      2          21          4                 925.0   \n",
       "889189   2008      2           2          6                1745.0   \n",
       "3512646  2008      6           8          7                1150.0   \n",
       "973993   2008      2           8          5                1136.0   \n",
       "2736274  2008      5          19          1                 722.0   \n",
       "\n",
       "         Planned_Shipment_Time  Planned_Delivery_Time Carrier_Name  \\\n",
       "1039382                    930                   1054           9E   \n",
       "889189                    1740                   1905           WN   \n",
       "3512646                   1150                   1250           AA   \n",
       "973993                    1140                   1240           MQ   \n",
       "2736274                    725                    912           F9   \n",
       "\n",
       "         Carrier_Num  Planned_TimeofTravel  Shipment_Delay Source Destination  \\\n",
       "1039382         3774                  84.0            -5.0    CVG         DTW   \n",
       "889189           832                  85.0             5.0    LAX         SFO   \n",
       "3512646         1797                  60.0             0.0    ORD         STL   \n",
       "973993          3521                  60.0            -4.0    DFW         FSM   \n",
       "2736274          233                 167.0            -3.0    BNA         DEN   \n",
       "\n",
       "         Distance  Delivery_Status  \n",
       "1039382       229              0.0  \n",
       "889189        337              0.0  \n",
       "3512646       258              0.0  \n",
       "973993        228              0.0  \n",
       "2736274      1013              0.0  "
      ]
     },
     "execution_count": 7,
     "metadata": {},
     "output_type": "execute_result"
    }
   ],
   "source": [
    "df.head()"
   ]
  },
  {
   "cell_type": "code",
   "execution_count": 8,
   "metadata": {
    "colab": {
     "base_uri": "https://localhost:8080/",
     "height": 364
    },
    "id": "9SW4QW34LdM0",
    "outputId": "3bad3cca-f772-42e3-e532-ac27cfd72b80"
   },
   "outputs": [
    {
     "data": {
      "text/html": [
       "<div>\n",
       "<style scoped>\n",
       "    .dataframe tbody tr th:only-of-type {\n",
       "        vertical-align: middle;\n",
       "    }\n",
       "\n",
       "    .dataframe tbody tr th {\n",
       "        vertical-align: top;\n",
       "    }\n",
       "\n",
       "    .dataframe thead th {\n",
       "        text-align: right;\n",
       "    }\n",
       "</style>\n",
       "<table border=\"1\" class=\"dataframe\">\n",
       "  <thead>\n",
       "    <tr style=\"text-align: right;\">\n",
       "      <th></th>\n",
       "      <th>Year</th>\n",
       "      <th>Month</th>\n",
       "      <th>DayofMonth</th>\n",
       "      <th>DayOfWeek</th>\n",
       "      <th>Actual_Shipment_Time</th>\n",
       "      <th>Planned_Shipment_Time</th>\n",
       "      <th>Planned_Delivery_Time</th>\n",
       "      <th>Carrier_Num</th>\n",
       "      <th>Planned_TimeofTravel</th>\n",
       "      <th>Shipment_Delay</th>\n",
       "      <th>Distance</th>\n",
       "      <th>Delivery_Status</th>\n",
       "    </tr>\n",
       "  </thead>\n",
       "  <tbody>\n",
       "    <tr>\n",
       "      <th>count</th>\n",
       "      <td>200000.0</td>\n",
       "      <td>200000.00000</td>\n",
       "      <td>200000.000000</td>\n",
       "      <td>200000.000000</td>\n",
       "      <td>195462.000000</td>\n",
       "      <td>200000.000000</td>\n",
       "      <td>200000.000000</td>\n",
       "      <td>200000.000000</td>\n",
       "      <td>199961.000000</td>\n",
       "      <td>195462.000000</td>\n",
       "      <td>200000.000000</td>\n",
       "      <td>195462.000000</td>\n",
       "    </tr>\n",
       "    <tr>\n",
       "      <th>mean</th>\n",
       "      <td>2008.0</td>\n",
       "      <td>3.51283</td>\n",
       "      <td>15.706825</td>\n",
       "      <td>3.938320</td>\n",
       "      <td>1337.036217</td>\n",
       "      <td>1328.001020</td>\n",
       "      <td>1494.190880</td>\n",
       "      <td>2232.273775</td>\n",
       "      <td>129.191887</td>\n",
       "      <td>11.150208</td>\n",
       "      <td>728.207595</td>\n",
       "      <td>0.203692</td>\n",
       "    </tr>\n",
       "    <tr>\n",
       "      <th>std</th>\n",
       "      <td>0.0</td>\n",
       "      <td>1.71109</td>\n",
       "      <td>8.772957</td>\n",
       "      <td>1.985683</td>\n",
       "      <td>481.573358</td>\n",
       "      <td>466.678509</td>\n",
       "      <td>486.127638</td>\n",
       "      <td>1946.825785</td>\n",
       "      <td>69.433766</td>\n",
       "      <td>36.458452</td>\n",
       "      <td>560.700529</td>\n",
       "      <td>0.402743</td>\n",
       "    </tr>\n",
       "    <tr>\n",
       "      <th>min</th>\n",
       "      <td>2008.0</td>\n",
       "      <td>1.00000</td>\n",
       "      <td>1.000000</td>\n",
       "      <td>1.000000</td>\n",
       "      <td>1.000000</td>\n",
       "      <td>1.000000</td>\n",
       "      <td>0.000000</td>\n",
       "      <td>1.000000</td>\n",
       "      <td>-12.000000</td>\n",
       "      <td>-59.000000</td>\n",
       "      <td>31.000000</td>\n",
       "      <td>0.000000</td>\n",
       "    </tr>\n",
       "    <tr>\n",
       "      <th>25%</th>\n",
       "      <td>2008.0</td>\n",
       "      <td>2.00000</td>\n",
       "      <td>8.000000</td>\n",
       "      <td>2.000000</td>\n",
       "      <td>928.000000</td>\n",
       "      <td>925.000000</td>\n",
       "      <td>1113.000000</td>\n",
       "      <td>619.000000</td>\n",
       "      <td>80.000000</td>\n",
       "      <td>-4.000000</td>\n",
       "      <td>325.000000</td>\n",
       "      <td>0.000000</td>\n",
       "    </tr>\n",
       "    <tr>\n",
       "      <th>50%</th>\n",
       "      <td>2008.0</td>\n",
       "      <td>4.00000</td>\n",
       "      <td>16.000000</td>\n",
       "      <td>4.000000</td>\n",
       "      <td>1329.000000</td>\n",
       "      <td>1321.000000</td>\n",
       "      <td>1518.000000</td>\n",
       "      <td>1580.000000</td>\n",
       "      <td>111.000000</td>\n",
       "      <td>0.000000</td>\n",
       "      <td>584.000000</td>\n",
       "      <td>0.000000</td>\n",
       "    </tr>\n",
       "    <tr>\n",
       "      <th>75%</th>\n",
       "      <td>2008.0</td>\n",
       "      <td>5.00000</td>\n",
       "      <td>23.000000</td>\n",
       "      <td>6.000000</td>\n",
       "      <td>1732.000000</td>\n",
       "      <td>1719.000000</td>\n",
       "      <td>1910.000000</td>\n",
       "      <td>3641.000000</td>\n",
       "      <td>160.000000</td>\n",
       "      <td>10.000000</td>\n",
       "      <td>957.000000</td>\n",
       "      <td>0.000000</td>\n",
       "    </tr>\n",
       "    <tr>\n",
       "      <th>max</th>\n",
       "      <td>2008.0</td>\n",
       "      <td>6.00000</td>\n",
       "      <td>31.000000</td>\n",
       "      <td>7.000000</td>\n",
       "      <td>2400.000000</td>\n",
       "      <td>2359.000000</td>\n",
       "      <td>2400.000000</td>\n",
       "      <td>9741.000000</td>\n",
       "      <td>660.000000</td>\n",
       "      <td>1287.000000</td>\n",
       "      <td>4962.000000</td>\n",
       "      <td>1.000000</td>\n",
       "    </tr>\n",
       "  </tbody>\n",
       "</table>\n",
       "</div>"
      ],
      "text/plain": [
       "           Year         Month     DayofMonth      DayOfWeek  \\\n",
       "count  200000.0  200000.00000  200000.000000  200000.000000   \n",
       "mean     2008.0       3.51283      15.706825       3.938320   \n",
       "std         0.0       1.71109       8.772957       1.985683   \n",
       "min      2008.0       1.00000       1.000000       1.000000   \n",
       "25%      2008.0       2.00000       8.000000       2.000000   \n",
       "50%      2008.0       4.00000      16.000000       4.000000   \n",
       "75%      2008.0       5.00000      23.000000       6.000000   \n",
       "max      2008.0       6.00000      31.000000       7.000000   \n",
       "\n",
       "       Actual_Shipment_Time  Planned_Shipment_Time  Planned_Delivery_Time  \\\n",
       "count         195462.000000          200000.000000          200000.000000   \n",
       "mean            1337.036217            1328.001020            1494.190880   \n",
       "std              481.573358             466.678509             486.127638   \n",
       "min                1.000000               1.000000               0.000000   \n",
       "25%              928.000000             925.000000            1113.000000   \n",
       "50%             1329.000000            1321.000000            1518.000000   \n",
       "75%             1732.000000            1719.000000            1910.000000   \n",
       "max             2400.000000            2359.000000            2400.000000   \n",
       "\n",
       "         Carrier_Num  Planned_TimeofTravel  Shipment_Delay       Distance  \\\n",
       "count  200000.000000         199961.000000   195462.000000  200000.000000   \n",
       "mean     2232.273775            129.191887       11.150208     728.207595   \n",
       "std      1946.825785             69.433766       36.458452     560.700529   \n",
       "min         1.000000            -12.000000      -59.000000      31.000000   \n",
       "25%       619.000000             80.000000       -4.000000     325.000000   \n",
       "50%      1580.000000            111.000000        0.000000     584.000000   \n",
       "75%      3641.000000            160.000000       10.000000     957.000000   \n",
       "max      9741.000000            660.000000     1287.000000    4962.000000   \n",
       "\n",
       "       Delivery_Status  \n",
       "count    195462.000000  \n",
       "mean          0.203692  \n",
       "std           0.402743  \n",
       "min           0.000000  \n",
       "25%           0.000000  \n",
       "50%           0.000000  \n",
       "75%           0.000000  \n",
       "max           1.000000  "
      ]
     },
     "execution_count": 8,
     "metadata": {},
     "output_type": "execute_result"
    }
   ],
   "source": [
    "df.describe()"
   ]
  },
  {
   "cell_type": "code",
   "execution_count": 9,
   "metadata": {
    "colab": {
     "base_uri": "https://localhost:8080/"
    },
    "id": "CBCs44jmL_jg",
    "outputId": "b4c0d70e-0ba8-4f53-cbcb-e5da4377404f"
   },
   "outputs": [
    {
     "data": {
      "text/plain": [
       "Year                        0\n",
       "Month                       0\n",
       "DayofMonth                  0\n",
       "DayOfWeek                   0\n",
       "Actual_Shipment_Time     4538\n",
       "Planned_Shipment_Time       0\n",
       "Planned_Delivery_Time       0\n",
       "Carrier_Name                0\n",
       "Carrier_Num                 0\n",
       "Planned_TimeofTravel       39\n",
       "Shipment_Delay           4538\n",
       "Source                      0\n",
       "Destination                 0\n",
       "Distance                    0\n",
       "Delivery_Status          4538\n",
       "dtype: int64"
      ]
     },
     "execution_count": 9,
     "metadata": {},
     "output_type": "execute_result"
    }
   ],
   "source": [
    "df.isnull().sum()"
   ]
  },
  {
   "cell_type": "markdown",
   "metadata": {
    "id": "zGLf0-poxk8s"
   },
   "source": [
    "# New section"
   ]
  },
  {
   "cell_type": "code",
   "execution_count": 10,
   "metadata": {
    "id": "gnYyV79ZPDpd"
   },
   "outputs": [],
   "source": [
    "df=df.dropna()"
   ]
  },
  {
   "cell_type": "code",
   "execution_count": 11,
   "metadata": {
    "colab": {
     "base_uri": "https://localhost:8080/"
    },
    "id": "ja3dUTJB75vC",
    "outputId": "1a8353c8-e54d-4a7a-9dd9-37bf1d12a53f"
   },
   "outputs": [
    {
     "data": {
      "text/plain": [
       "Year                     0\n",
       "Month                    0\n",
       "DayofMonth               0\n",
       "DayOfWeek                0\n",
       "Actual_Shipment_Time     0\n",
       "Planned_Shipment_Time    0\n",
       "Planned_Delivery_Time    0\n",
       "Carrier_Name             0\n",
       "Carrier_Num              0\n",
       "Planned_TimeofTravel     0\n",
       "Shipment_Delay           0\n",
       "Source                   0\n",
       "Destination              0\n",
       "Distance                 0\n",
       "Delivery_Status          0\n",
       "dtype: int64"
      ]
     },
     "execution_count": 11,
     "metadata": {},
     "output_type": "execute_result"
    }
   ],
   "source": [
    "df.isnull().sum()"
   ]
  },
  {
   "cell_type": "code",
   "execution_count": 12,
   "metadata": {
    "colab": {
     "base_uri": "https://localhost:8080/",
     "height": 113
    },
    "id": "pW_TLeDF-vGt",
    "outputId": "cb8793b9-c0a6-426b-ae44-84ee3de40cd6"
   },
   "outputs": [
    {
     "data": {
      "text/html": [
       "<div>\n",
       "<style scoped>\n",
       "    .dataframe tbody tr th:only-of-type {\n",
       "        vertical-align: middle;\n",
       "    }\n",
       "\n",
       "    .dataframe tbody tr th {\n",
       "        vertical-align: top;\n",
       "    }\n",
       "\n",
       "    .dataframe thead th {\n",
       "        text-align: right;\n",
       "    }\n",
       "</style>\n",
       "<table border=\"1\" class=\"dataframe\">\n",
       "  <thead>\n",
       "    <tr style=\"text-align: right;\">\n",
       "      <th></th>\n",
       "      <th>Year</th>\n",
       "      <th>Month</th>\n",
       "      <th>DayofMonth</th>\n",
       "      <th>DayOfWeek</th>\n",
       "      <th>Actual_Shipment_Time</th>\n",
       "      <th>Planned_Shipment_Time</th>\n",
       "      <th>Planned_Delivery_Time</th>\n",
       "      <th>Carrier_Name</th>\n",
       "      <th>Carrier_Num</th>\n",
       "      <th>Planned_TimeofTravel</th>\n",
       "      <th>Shipment_Delay</th>\n",
       "      <th>Source</th>\n",
       "      <th>Destination</th>\n",
       "      <th>Distance</th>\n",
       "      <th>Delivery_Status</th>\n",
       "    </tr>\n",
       "  </thead>\n",
       "  <tbody>\n",
       "  </tbody>\n",
       "</table>\n",
       "</div>"
      ],
      "text/plain": [
       "Empty DataFrame\n",
       "Columns: [Year, Month, DayofMonth, DayOfWeek, Actual_Shipment_Time, Planned_Shipment_Time, Planned_Delivery_Time, Carrier_Name, Carrier_Num, Planned_TimeofTravel, Shipment_Delay, Source, Destination, Distance, Delivery_Status]\n",
       "Index: []"
      ]
     },
     "execution_count": 12,
     "metadata": {},
     "output_type": "execute_result"
    }
   ],
   "source": [
    "df[df.duplicated()]"
   ]
  },
  {
   "cell_type": "code",
   "execution_count": 13,
   "metadata": {
    "id": "G1GhgH2D_AhI"
   },
   "outputs": [],
   "source": [
    "df=df.drop_duplicates()\n"
   ]
  },
  {
   "cell_type": "code",
   "execution_count": 14,
   "metadata": {
    "colab": {
     "base_uri": "https://localhost:8080/",
     "height": 113
    },
    "id": "Y4jEDCkL_FFv",
    "outputId": "98fdcf40-4994-45cc-b74a-193e669e13ba"
   },
   "outputs": [
    {
     "data": {
      "text/html": [
       "<div>\n",
       "<style scoped>\n",
       "    .dataframe tbody tr th:only-of-type {\n",
       "        vertical-align: middle;\n",
       "    }\n",
       "\n",
       "    .dataframe tbody tr th {\n",
       "        vertical-align: top;\n",
       "    }\n",
       "\n",
       "    .dataframe thead th {\n",
       "        text-align: right;\n",
       "    }\n",
       "</style>\n",
       "<table border=\"1\" class=\"dataframe\">\n",
       "  <thead>\n",
       "    <tr style=\"text-align: right;\">\n",
       "      <th></th>\n",
       "      <th>Year</th>\n",
       "      <th>Month</th>\n",
       "      <th>DayofMonth</th>\n",
       "      <th>DayOfWeek</th>\n",
       "      <th>Actual_Shipment_Time</th>\n",
       "      <th>Planned_Shipment_Time</th>\n",
       "      <th>Planned_Delivery_Time</th>\n",
       "      <th>Carrier_Name</th>\n",
       "      <th>Carrier_Num</th>\n",
       "      <th>Planned_TimeofTravel</th>\n",
       "      <th>Shipment_Delay</th>\n",
       "      <th>Source</th>\n",
       "      <th>Destination</th>\n",
       "      <th>Distance</th>\n",
       "      <th>Delivery_Status</th>\n",
       "    </tr>\n",
       "  </thead>\n",
       "  <tbody>\n",
       "  </tbody>\n",
       "</table>\n",
       "</div>"
      ],
      "text/plain": [
       "Empty DataFrame\n",
       "Columns: [Year, Month, DayofMonth, DayOfWeek, Actual_Shipment_Time, Planned_Shipment_Time, Planned_Delivery_Time, Carrier_Name, Carrier_Num, Planned_TimeofTravel, Shipment_Delay, Source, Destination, Distance, Delivery_Status]\n",
       "Index: []"
      ]
     },
     "execution_count": 14,
     "metadata": {},
     "output_type": "execute_result"
    }
   ],
   "source": [
    "df[df.duplicated()]"
   ]
  },
  {
   "cell_type": "code",
   "execution_count": 15,
   "metadata": {
    "colab": {
     "base_uri": "https://localhost:8080/"
    },
    "id": "bSdQBF1PVGTJ",
    "outputId": "0b10a976-b5d6-43e3-b649-306db720d6ee"
   },
   "outputs": [
    {
     "data": {
      "text/plain": [
       "Year                        1\n",
       "Month                       6\n",
       "DayofMonth                 31\n",
       "DayOfWeek                   7\n",
       "Actual_Shipment_Time     1329\n",
       "Planned_Shipment_Time    1138\n",
       "Planned_Delivery_Time    1300\n",
       "Carrier_Name               20\n",
       "Carrier_Num              7131\n",
       "Planned_TimeofTravel      462\n",
       "Shipment_Delay            511\n",
       "Source                    295\n",
       "Destination               297\n",
       "Distance                 1354\n",
       "Delivery_Status             2\n",
       "dtype: int64"
      ]
     },
     "execution_count": 15,
     "metadata": {},
     "output_type": "execute_result"
    }
   ],
   "source": [
    "df.nunique()\n"
   ]
  },
  {
   "cell_type": "markdown",
   "metadata": {
    "id": "iBUXicCw_y9T"
   },
   "source": [
    "Exploratory Data Analysis:\n",
    "\n"
   ]
  },
  {
   "cell_type": "markdown",
   "metadata": {
    "id": "wSlyf5ffAAt1"
   },
   "source": [
    "Univariate Analysis:"
   ]
  },
  {
   "cell_type": "code",
   "execution_count": 16,
   "metadata": {
    "id": "kRlKjgFy_yAk"
   },
   "outputs": [],
   "source": [
    "import matplotlib.pyplot as plt\n",
    "import seaborn as sns"
   ]
  },
  {
   "cell_type": "code",
   "execution_count": 17,
   "metadata": {
    "colab": {
     "base_uri": "https://localhost:8080/",
     "height": 352
    },
    "id": "cKhZY4k5AJY4",
    "outputId": "d36d766d-0491-4ce3-cdfa-bb65a162f8fa"
   },
   "outputs": [
    {
     "data": {
      "text/plain": [
       "<matplotlib.axes._subplots.AxesSubplot at 0x18e5ab33eb0>"
      ]
     },
     "execution_count": 17,
     "metadata": {},
     "output_type": "execute_result"
    }
   ],
   "source": [
    "sns.countplot(df['Carrier_Name'])"
   ]
  },
  {
   "cell_type": "code",
   "execution_count": 18,
   "metadata": {
    "colab": {
     "base_uri": "https://localhost:8080/",
     "height": 352
    },
    "id": "D0-mbr06AYB1",
    "outputId": "e7710beb-e9f5-4b60-ca24-85f0e66c933c"
   },
   "outputs": [
    {
     "data": {
      "text/plain": [
       "<matplotlib.axes._subplots.AxesSubplot at 0x18e5ab33eb0>"
      ]
     },
     "execution_count": 18,
     "metadata": {},
     "output_type": "execute_result"
    }
   ],
   "source": [
    "sns.countplot(df['Delivery_Status'])"
   ]
  },
  {
   "cell_type": "code",
   "execution_count": 19,
   "metadata": {
    "colab": {
     "base_uri": "https://localhost:8080/",
     "height": 286
    },
    "id": "PFQdEjoiBTJy",
    "outputId": "6f0549fc-3cfa-4d3f-f8c0-67c187ea284c"
   },
   "outputs": [
    {
     "data": {
      "text/plain": [
       "<matplotlib.axes._subplots.AxesSubplot at 0x18e5ab33eb0>"
      ]
     },
     "execution_count": 19,
     "metadata": {},
     "output_type": "execute_result"
    }
   ],
   "source": [
    "\n",
    "sns.boxplot(data= df[[ 'Actual_Shipment_Time', 'Planned_Shipment_Time', 'Planned_Delivery_Time']])"
   ]
  },
  {
   "cell_type": "code",
   "execution_count": 20,
   "metadata": {
    "colab": {
     "base_uri": "https://localhost:8080/",
     "height": 283
    },
    "id": "7J0t7FerCTxh",
    "outputId": "1fcbc9d9-4bfd-4d95-9d40-8ece9340e4aa"
   },
   "outputs": [
    {
     "data": {
      "text/plain": [
       "<matplotlib.axes._subplots.AxesSubplot at 0x18e5ab33eb0>"
      ]
     },
     "execution_count": 20,
     "metadata": {},
     "output_type": "execute_result"
    }
   ],
   "source": [
    "sns.boxplot(data=df[['Planned_TimeofTravel']])"
   ]
  },
  {
   "cell_type": "code",
   "execution_count": 21,
   "metadata": {
    "colab": {
     "base_uri": "https://localhost:8080/",
     "height": 557
    },
    "id": "8PANAk-jDkXr",
    "outputId": "6d88f603-4405-4f70-f365-4421a697cf1c"
   },
   "outputs": [],
   "source": [
    "import feature_engine"
   ]
  },
  {
   "cell_type": "code",
   "execution_count": 22,
   "metadata": {
    "id": "LFm3KrT7DgZj"
   },
   "outputs": [],
   "source": [
    "from feature_engine.outliers import Winsorizer"
   ]
  },
  {
   "cell_type": "code",
   "execution_count": 23,
   "metadata": {},
   "outputs": [
    {
     "name": "stdout",
     "output_type": "stream",
     "text": [
      "Requirement already satisfied: feature_engine in c:\\users\\sandeep\\anaconda3\\lib\\site-packages (1.4.1)\n",
      "Requirement already satisfied: scipy>=1.4.1 in c:\\users\\sandeep\\anaconda3\\lib\\site-packages (from feature_engine) (1.6.2)\n",
      "Requirement already satisfied: statsmodels>=0.11.1 in c:\\users\\sandeep\\anaconda3\\lib\\site-packages (from feature_engine) (0.12.2)\n",
      "Requirement already satisfied: numpy>=1.18.2 in c:\\users\\sandeep\\anaconda3\\lib\\site-packages (from feature_engine) (1.19.5)\n",
      "Requirement already satisfied: pandas>=1.0.3 in c:\\users\\sandeep\\anaconda3\\lib\\site-packages (from feature_engine) (1.3.2)\n",
      "Requirement already satisfied: scikit-learn>=1.0.0 in c:\\users\\sandeep\\anaconda3\\lib\\site-packages (from feature_engine) (1.1.2)\n",
      "Requirement already satisfied: pytz>=2017.3 in c:\\users\\sandeep\\anaconda3\\lib\\site-packages (from pandas>=1.0.3->feature_engine) (2021.1)\n",
      "Requirement already satisfied: python-dateutil>=2.7.3 in c:\\users\\sandeep\\anaconda3\\lib\\site-packages (from pandas>=1.0.3->feature_engine) (2.8.2)\n",
      "Requirement already satisfied: six>=1.5 in c:\\users\\sandeep\\anaconda3\\lib\\site-packages (from python-dateutil>=2.7.3->pandas>=1.0.3->feature_engine) (1.15.0)\n",
      "Requirement already satisfied: threadpoolctl>=2.0.0 in c:\\users\\sandeep\\anaconda3\\lib\\site-packages (from scikit-learn>=1.0.0->feature_engine) (2.2.0)\n",
      "Requirement already satisfied: joblib>=1.0.0 in c:\\users\\sandeep\\anaconda3\\lib\\site-packages (from scikit-learn>=1.0.0->feature_engine) (1.1.0)\n",
      "Requirement already satisfied: patsy>=0.5 in c:\\users\\sandeep\\anaconda3\\lib\\site-packages (from statsmodels>=0.11.1->feature_engine) (0.5.1)\n"
     ]
    },
    {
     "name": "stderr",
     "output_type": "stream",
     "text": [
      "WARNING: You are using pip version 21.2.4; however, version 22.2.2 is available.\n",
      "You should consider upgrading via the 'C:\\Users\\SANDEEP\\anaconda3\\python.exe -m pip install --upgrade pip' command.\n"
     ]
    }
   ],
   "source": [
    "!pip install feature_engine"
   ]
  },
  {
   "cell_type": "code",
   "execution_count": 24,
   "metadata": {
    "id": "mL0yP1oKDBgb"
   },
   "outputs": [],
   "source": [
    "\n",
    "winsor = Winsorizer( capping_method = \"iqr\",\n",
    "                    tail = \"right\",\n",
    "                    fold = 1.5, \n",
    "                    variables = [\"Planned_TimeofTravel\"])\n",
    "df[\"Planned_TimeofTravel\"] = winsor.fit_transform(df[[\"Planned_TimeofTravel\"]])"
   ]
  },
  {
   "cell_type": "code",
   "execution_count": 25,
   "metadata": {
    "colab": {
     "base_uri": "https://localhost:8080/",
     "height": 283
    },
    "id": "teikvJ3aE7jo",
    "outputId": "adc64944-82a9-4432-af0e-36f643ea261e"
   },
   "outputs": [
    {
     "data": {
      "text/plain": [
       "<matplotlib.axes._subplots.AxesSubplot at 0x18e5ab33eb0>"
      ]
     },
     "execution_count": 25,
     "metadata": {},
     "output_type": "execute_result"
    }
   ],
   "source": [
    "sns.boxplot(data=df[['Planned_TimeofTravel']])"
   ]
  },
  {
   "cell_type": "code",
   "execution_count": 26,
   "metadata": {
    "colab": {
     "base_uri": "https://localhost:8080/",
     "height": 283
    },
    "id": "GuASMCYTC5rl",
    "outputId": "e4c15477-2818-4cef-d9a1-e0a62a43dcbd"
   },
   "outputs": [
    {
     "data": {
      "text/plain": [
       "<matplotlib.axes._subplots.AxesSubplot at 0x18e5ab33eb0>"
      ]
     },
     "execution_count": 26,
     "metadata": {},
     "output_type": "execute_result"
    }
   ],
   "source": [
    "sns.boxplot(data=df[['Shipment_Delay']])"
   ]
  },
  {
   "cell_type": "code",
   "execution_count": 27,
   "metadata": {
    "id": "kbpXzBqKFBwO"
   },
   "outputs": [],
   "source": [
    "winsor = Winsorizer( capping_method = \"iqr\",\n",
    "                    tail = \"both\",\n",
    "                    fold = 1.5, \n",
    "                    variables = ['Shipment_Delay'])\n",
    "df['Shipment_Delay'] = winsor.fit_transform(df[['Shipment_Delay']])"
   ]
  },
  {
   "cell_type": "code",
   "execution_count": 28,
   "metadata": {
    "colab": {
     "base_uri": "https://localhost:8080/",
     "height": 283
    },
    "id": "fx4edFlgFTQl",
    "outputId": "8ad7c4a0-5455-4b9b-99de-5b929cbf72f5"
   },
   "outputs": [
    {
     "data": {
      "text/plain": [
       "<matplotlib.axes._subplots.AxesSubplot at 0x18e5ab33eb0>"
      ]
     },
     "execution_count": 28,
     "metadata": {},
     "output_type": "execute_result"
    }
   ],
   "source": [
    "sns.boxplot(data=df[['Shipment_Delay']])"
   ]
  },
  {
   "cell_type": "code",
   "execution_count": 29,
   "metadata": {
    "colab": {
     "base_uri": "https://localhost:8080/",
     "height": 351
    },
    "id": "5xYsKJpCFaQ3",
    "outputId": "9821a646-8ba7-4b43-d6da-c0622e66dbc5"
   },
   "outputs": [
    {
     "data": {
      "text/plain": [
       "<matplotlib.axes._subplots.AxesSubplot at 0x18e5ab33eb0>"
      ]
     },
     "execution_count": 29,
     "metadata": {},
     "output_type": "execute_result"
    }
   ],
   "source": [
    "sns.boxplot(df.Distance)"
   ]
  },
  {
   "cell_type": "code",
   "execution_count": 30,
   "metadata": {
    "id": "-KzIhs30Fya2"
   },
   "outputs": [],
   "source": [
    "winsor = Winsorizer( capping_method = \"iqr\",\n",
    "                    tail = \"both\",\n",
    "                    fold = 1.5, \n",
    "                    variables = [\"Distance\"])\n",
    "df[\"Distance\"] = winsor.fit_transform(df[[\"Distance\"]])"
   ]
  },
  {
   "cell_type": "code",
   "execution_count": 31,
   "metadata": {
    "colab": {
     "base_uri": "https://localhost:8080/",
     "height": 351
    },
    "id": "84lUrOBcGOve",
    "outputId": "729769c2-6a6d-4ff0-8e3e-93b3b75c2626"
   },
   "outputs": [
    {
     "data": {
      "text/plain": [
       "<matplotlib.axes._subplots.AxesSubplot at 0x18e5ab33eb0>"
      ]
     },
     "execution_count": 31,
     "metadata": {},
     "output_type": "execute_result"
    }
   ],
   "source": [
    "sns.boxplot(df.Distance)"
   ]
  },
  {
   "cell_type": "markdown",
   "metadata": {
    "id": "WmSHjfxgGVlr"
   },
   "source": [
    "Bivariate Analysis:"
   ]
  },
  {
   "cell_type": "code",
   "execution_count": 32,
   "metadata": {
    "colab": {
     "base_uri": "https://localhost:8080/",
     "height": 268
    },
    "id": "fSVUBRVnGVRb",
    "outputId": "01a4c62a-b39b-4782-fb9e-d64f98bcca33"
   },
   "outputs": [
    {
     "data": {
      "image/png": "[encoded data removed]",
      "text/plain": [
       "<Figure size 640x480 with 1 Axes>"
      ]
     },
     "metadata": {},
     "output_type": "display_data"
    }
   ],
   "source": [
    "\n",
    "plt.scatter(x = df['Planned_TimeofTravel'], y = df['Distance'])\n",
    "plt.show()"
   ]
  },
  {
   "cell_type": "code",
   "execution_count": 33,
   "metadata": {
    "colab": {
     "base_uri": "https://localhost:8080/",
     "height": 507
    },
    "id": "IDm2rALEJwwV",
    "outputId": "98689367-8183-49f9-926e-efd3e02ade30"
   },
   "outputs": [
    {
     "data": {
      "text/plain": [
       "<matplotlib.axes._subplots.AxesSubplot at 0x18e782de340>"
      ]
     },
     "execution_count": 33,
     "metadata": {},
     "output_type": "execute_result"
    }
   ],
   "source": [
    "plt.figure(figsize=(10,6))\n",
    "sns.heatmap(df.corr(),annot=True)"
   ]
  },
  {
   "cell_type": "code",
   "execution_count": 34,
   "metadata": {
    "id": "J0RU7R9Yb8yP"
   },
   "outputs": [],
   "source": [
    "df1=df.drop(columns=['Carrier_Name'])"
   ]
  },
  {
   "cell_type": "markdown",
   "metadata": {
    "id": "IVlwcXjOK5f5"
   },
   "source": [
    "Unsupervised Learning Techniques:"
   ]
  },
  {
   "cell_type": "code",
   "execution_count": 35,
   "metadata": {
    "colab": {
     "base_uri": "https://localhost:8080/"
    },
    "id": "0RtI-9A6byYJ",
    "outputId": "d62ab506-87d8-46e2-e6da-97d711ad65e8"
   },
   "outputs": [
    {
     "name": "stdout",
     "output_type": "stream",
     "text": [
      "Graph with 297 nodes and 2465 edges\n"
     ]
    }
   ],
   "source": [
    "import networkx as nx\n",
    "g = nx.Graph()                                                                 # craeting a empty graph with no. nodes and no. edges\n",
    "\n",
    "g = nx.from_pandas_edgelist(df, source = 'Source', target = \"Destination\")    # takes source and destination nodes from the dataframe \n",
    "\n",
    "print(nx.info(g))              "
   ]
  },
  {
   "cell_type": "code",
   "execution_count": 36,
   "metadata": {
    "colab": {
     "base_uri": "https://localhost:8080/"
    },
    "id": "Pm92WCtZcvLu",
    "outputId": "4076297b-2160-4d32-ac80-2fbedccbc6fb"
   },
   "outputs": [
    {
     "data": {
      "text/plain": [
       "ATL    0.570946\n",
       "ORD    0.500000\n",
       "DFW    0.449324\n",
       "MSP    0.408784\n",
       "DEN    0.402027\n",
       "DTW    0.391892\n",
       "IAH    0.375000\n",
       "CVG    0.358108\n",
       "SLC    0.347973\n",
       "LAS    0.307432\n",
       "dtype: float64"
      ]
     },
     "execution_count": 36,
     "metadata": {},
     "output_type": "execute_result"
    }
   ],
   "source": [
    "# degree centrality\n",
    "d = nx.degree_centrality(g)\n",
    "pd.Series(d).sort_values(ascending = False).head(10)"
   ]
  },
  {
   "cell_type": "code",
   "execution_count": 37,
   "metadata": {
    "id": "Cdq2RJlNc8C6"
   },
   "outputs": [],
   "source": [
    "import matplotlib.pyplot as plt"
   ]
  },
  {
   "cell_type": "code",
   "execution_count": 38,
   "metadata": {
    "colab": {
     "base_uri": "https://localhost:8080/",
     "height": 440
    },
    "id": "qGTqNWqoc0FL",
    "outputId": "e7c01bbd-d91b-4394-9dab-67b2b07f71bb"
   },
   "outputs": [],
   "source": [
    "plt.figure(figsize = (20,10))\n",
    "pos = nx.spring_layout(g, k= 0.2)\n",
    "nx.draw_networkx(g,pos, node_size = 10, node_color = 'yellow')\n"
   ]
  },
  {
   "cell_type": "code",
   "execution_count": 39,
   "metadata": {
    "colab": {
     "base_uri": "https://localhost:8080/"
    },
    "id": "SSFsNV6ZdE_J",
    "outputId": "e2e9d2d2-82b2-4b99-bed6-651037cce21f"
   },
   "outputs": [
    {
     "data": {
      "text/plain": [
       "ATL    0.693208\n",
       "ORD    0.660714\n",
       "DFW    0.639309\n",
       "MSP    0.623158\n",
       "DEN    0.620545\n",
       "DTW    0.615385\n",
       "IAH    0.610309\n",
       "CVG    0.602851\n",
       "SLC    0.600406\n",
       "LAS    0.586139\n",
       "dtype: float64"
      ]
     },
     "execution_count": 39,
     "metadata": {},
     "output_type": "execute_result"
    }
   ],
   "source": [
    "# closeness Centrality\n",
    "c = nx.closeness_centrality(g)\n",
    "pd.Series(c).sort_values(ascending = False).head(10)"
   ]
  },
  {
   "cell_type": "markdown",
   "metadata": {
    "id": "qB7s_H8L-kHE"
   },
   "source": [
    "ATL, ORD, DFW, DEN,MSP,DTW , IAH, SLC,CVG, LAS has the highest closeness centrality.\n",
    "\n"
   ]
  },
  {
   "cell_type": "code",
   "execution_count": 40,
   "metadata": {
    "colab": {
     "base_uri": "https://localhost:8080/"
    },
    "id": "l2dX3oe1dJry",
    "outputId": "64cb7044-6add-4ad3-cdbf-eb6e05ab5fa6"
   },
   "outputs": [
    {
     "data": {
      "text/plain": [
       "ATL    0.221888\n",
       "DFW    0.114534\n",
       "SLC    0.113227\n",
       "MSP    0.101900\n",
       "ORD    0.095863\n",
       "ANC    0.075855\n",
       "DEN    0.073851\n",
       "DTW    0.067644\n",
       "IAH    0.063993\n",
       "SFO    0.045177\n",
       "dtype: float64"
      ]
     },
     "execution_count": 40,
     "metadata": {},
     "output_type": "execute_result"
    }
   ],
   "source": [
    "# Betweenness Centrality\n",
    "b = nx.betweenness_centrality(g)\n",
    "pd.Series(b).sort_values(ascending = False).head(10)"
   ]
  },
  {
   "cell_type": "code",
   "execution_count": 41,
   "metadata": {
    "colab": {
     "base_uri": "https://localhost:8080/"
    },
    "id": "G_EG3DPQXnM8",
    "outputId": "5e4bd791-0eff-46cd-9ce7-6a3953d8b0a2"
   },
   "outputs": [
    {
     "name": "stdout",
     "output_type": "stream",
     "text": [
      "{'CVG': 0.16624105977150114, 'DTW': 0.16747087012755663, 'LAX': 0.1442486512343116, 'SFO': 0.11531430876606957, 'ORD': 0.19102022582856404, 'STL': 0.12079812625648091, 'DFW': 0.1807101568460628, 'FSM': 0.01056582896713223, 'BNA': 0.118400753191993, 'DEN': 0.17140848429074013, 'RNO': 0.0516322982080292, 'LGB': 0.034812500447947876, 'LAS': 0.16100444583101955, 'PDX': 0.08993312755878706, 'JFK': 0.12714096778451567, 'IAH': 0.16918092527972686, 'BRO': 0.0034827812454849847, 'DCA': 0.11343992831325249, 'IAD': 0.12851740060986236, 'SHV': 0.021428602566119098, 'LGA': 0.10106971336789178, 'FLL': 0.11447179812854386, 'IYK': 0.0029694844182571573, 'PHX': 0.15435305199011157, 'MSP': 0.17056467319469112, 'HOU': 0.06682338707276181, 'DAL': 0.02589784762471486, 'PHL': 0.1273704459533206, 'EWR': 0.1564930932848121, 'TUL': 0.07072054258296455, 'ABQ': 0.08566768486786518, 'MIA': 0.11185358000284965, 'LBB': 0.016071702716105016, 'SAN': 0.11188858520872681, 'HLN': 0.01001627949511619, 'SLC': 0.1445832566395039, 'LEX': 0.03603895142892769, 'ATL': 0.19639185587809177, 'SJC': 0.06376206496906883, 'MKE': 0.10445941867399869, 'HRL': 0.009795181513554487, 'GEG': 0.03770977034105793, 'TUS': 0.07250988325460492, 'TYS': 0.04561520994822904, 'JAX': 0.08847859484162408, 'SMF': 0.07579543034046501, 'BUR': 0.03294492729561105, 'DSM': 0.0476025806014742, 'MEM': 0.13614574902173013, 'HNL': 0.05515927244578451, 'OGG': 0.03565032181589986, 'SAT': 0.100333440382394, 'SEA': 0.1166764046987546, 'TOL': 0.007975387230424874, 'PBI': 0.06453814704219937, 'BOS': 0.13127959979561585, 'ALB': 0.04968777229137353, 'RSW': 0.08149747167493718, 'BWI': 0.13447833725731678, 'SDF': 0.07452676915046562, 'MDW': 0.1154477041488316, 'CLE': 0.14566152534179916, 'PSC': 0.006505007950531518, 'MCO': 0.14988029166536881, 'IND': 0.10265778612597776, 'MSO': 0.016322508428451333, 'CLT': 0.14788567753141232, 'GSP': 0.03888273863320581, 'AUS': 0.11358450946898381, 'BUF': 0.062993587619243, 'OAK': 0.07116547927980338, 'ACT': 0.003720139319056233, 'MCI': 0.1120907437956604, 'ANC': 0.049788645334567457, 'MHT': 0.05141034714624961, 'BHM': 0.0772402212458812, 'CHS': 0.041572654441008876, 'RST': 0.010891263898086558, 'FNT': 0.03366166040946582, 'OTZ': 0.0010464592471029033, 'ROC': 0.05074768159875991, 'LFT': 0.011245906048036075, 'PIT': 0.09192636507022463, 'MSY': 0.10293175132229662, 'OMA': 0.06279256059235316, 'TPA': 0.1272147371895619, 'RDU': 0.10906168554263201, 'KOA': 0.025746057476552193, 'HPN': 0.025185738076057004, 'STX': 0.009389938891134503, 'STT': 0.028433739453595723, 'HSV': 0.03852645352327464, 'GPT': 0.022956316928428304, 'SNA': 0.06097208436869542, 'VPS': 0.02140328158074951, 'XNA': 0.04781104891928643, 'PIA': 0.01867174526402327, 'PVD': 0.059976285089550205, 'RDD': 0.0023738271864051277, 'MYR': 0.024696555630107517, 'FAT': 0.026398549168802455, 'DAB': 0.021578759389568682, 'LIH': 0.02040912912621668, 'ORF': 0.0659405541896988, 'CMH': 0.09373585014856542, 'LNK': 0.014419892006056846, 'RDM': 0.007201534522770075, 'CAK': 0.03719403730064091, 'BOI': 0.04100577358923227, 'GUC': 0.007248767427026519, 'SMX': 0.005343311604662285, 'EUG': 0.02019158166438763, 'MAF': 0.016527855795659505, 'SAV': 0.041544164141909194, 'MRY': 0.01970203000718499, 'BZN': 0.023813084518518064, 'ONT': 0.0640342458375712, 'PHF': 0.016886841686644213, 'CAE': 0.03279871541355568, 'KTN': 0.002527769852556046, 'BTV': 0.033047789367433245, 'OKC': 0.07855591745036745, 'TLH': 0.023736168530600132, 'SLE': 0.002976379842561231, 'ICT': 0.03461548713002292, 'SPS': 0.003720139319056233, 'SYR': 0.043492077054379324, 'BTR': 0.023738534522595067, 'TVC': 0.01784216162725913, 'BFL': 0.022203864329892367, 'TWF': 0.003517420044981415, 'GJT': 0.01879086306386139, 'GRR': 0.05046456299181808, 'ISP': 0.023569343657366158, 'SJU': 0.06326514275311056, 'SBA': 0.02337297030230767, 'ILM': 0.012754727144123837, 'ACV': 0.006962328826115801, 'JAN': 0.0400137270414699, 'CPR': 0.013948681242046205, 'BIS': 0.007039899652554959, 'BMI': 0.014375260613241708, 'ADQ': 0.001024915664292596, 'MOB': 0.017981011959547225, 'AVP': 0.014845247458199028, 'GSO': 0.05226484295225141, 'DAY': 0.049245657178716984, 'IDA': 0.01052880826238846, 'FLG': 0.0031775004930917027, 'SWF': 0.016879867976395742, 'SRQ': 0.043140784829006545, 'JAC': 0.02489803062478335, 'FWA': 0.018654388700637653, 'BGR': 0.019454234036892552, 'FAR': 0.0160990536547911, 'SBN': 0.015957086836594813, 'COD': 0.006505007950531518, 'CHA': 0.024850872187321384, 'ITO': 0.0023993760098852874, 'MDT': 0.03076525610206259, 'PWM': 0.03522653164393953, 'BDL': 0.08679720873894191, 'RAP': 0.013948681242046205, 'COS': 0.04794138669881016, 'PSP': 0.03855824351346606, 'DRO': 0.009682508443623221, 'LSE': 0.007443673291514687, 'ELP': 0.04466567695451867, 'RIC': 0.05539363262748309, 'AMA': 0.016342647492707633, 'BET': 0.001024915664292596, 'ATW': 0.020506891415528597, 'GGG': 0.003720139319056233, 'YKM': 0.002976379842561231, 'CID': 0.02560528642981022, 'MLI': 0.031385594356005915, 'CRW': 0.022598521550473184, 'MSN': 0.040079595226766754, 'CWA': 0.00953036476624678, 'GRK': 0.011245906048036075, 'LIT': 0.056722285203366564, 'TEX': 0.0031775004930917027, 'ASE': 0.02300120727871038, 'VLD': 0.004042985483494859, 'MFR': 0.020263990520024693, 'CHO': 0.007465255104697141, 'PNS': 0.029086123520945553, 'EKO': 0.002976379842561231, 'OXR': 0.0029694844182571573, 'MFE': 0.007202920564541217, 'ROA': 0.01406862432608889, 'BIL': 0.013948681242046205, 'AVL': 0.02421391996247241, 'EGE': 0.03925911163176229, 'SJT': 0.003720139319056233, 'ABE': 0.02088819874932954, 'JNU': 0.003535783497258527, 'SIT': 0.0025266895827858464, 'CRP': 0.008578538823902951, 'TYR': 0.003720139319056233, 'MQT': 0.006546638966397802, 'MGM': 0.010328470893560981, 'ABI': 0.003720139319056233, 'MLU': 0.011245906048036075, 'LCH': 0.0034827812454849847, 'CLD': 0.0061469849113488595, 'EVV': 0.021368090941836396, 'MBS': 0.010891263898086558, 'BQN': 0.008924330148918969, 'PFN': 0.013353398529796709, 'SGF': 0.030894707719311958, 'TXK': 0.003720139319056233, 'CMI': 0.0076525410659862465, 'IPL': 0.0032268923372555497, 'YUM': 0.012504227229303841, 'AEX': 0.011245906048036075, 'TRI': 0.007465255104697141, 'MOD': 0.0066615168101136525, 'SCE': 0.010912845711269015, 'EYW': 0.007128424744013289, 'MTJ': 0.024652800163754766, 'CSG': 0.004042985483494859, 'PIH': 0.002976379842561231, 'OAJ': 0.004042985483494859, 'LAN': 0.014313533519288843, 'CIC': 0.0023738271864051277, 'FAI': 0.009966141502929137, 'HDN': 0.030496784027224444, 'FSD': 0.022948099205537403, 'GRB': 0.022534006280818506, 'SBP': 0.014811626062613624, 'AGS': 0.007087352815493675, 'MLB': 0.004042985483494859, 'BQK': 0.004042985483494859, 'FAY': 0.004042985483494859, 'RFD': 0.0035286281079702866, 'LYH': 0.004042985483494859, 'DHN': 0.004042985483494859, 'AZO': 0.014313533519288843, 'LAW': 0.007763124802551092, 'BGM': 0.0034475906065718725, 'CMX': 0.0035112715445846728, 'ACY': 0.004042985483494859, 'GCC': 0.0035286281079702866, 'ROW': 0.003720139319056233, 'SUN': 0.002976379842561231, 'ERI': 0.0034475906065718725, 'MEI': 0.004042985483494859, 'HHH': 0.004042985483494859, 'ABY': 0.004042985483494859, 'GTF': 0.013948681242046205, 'BLI': 0.002976379842561231, 'YAK': 9.392951255362673e-05, 'DLH': 0.006958862151156546, 'GNV': 0.004042985483494859, 'SPI': 0.006578048236022157, 'LWS': 0.002976379842561231, 'SGU': 0.006018273116455453, 'ELM': 0.0034475906065718725, 'LRD': 0.007202920564541217, 'WRG': 5.355827066177631e-05, 'PSG': 7.38920590461433e-05, 'SUX': 0.0035112715445846728, 'GTR': 0.004042985483494859, 'FCA': 0.016322508428451333, 'BPT': 0.0034827812454849847, 'MCN': 0.004042985483494859, 'DBQ': 0.003932401746930014, 'GFK': 0.0035112715445846728, 'EWN': 0.004042985483494859, 'LWB': 0.004042985483494859, 'CDC': 0.002976379842561231, 'PMD': 0.0023738271864051277, 'RKS': 0.0035286281079702866, 'CLL': 0.007202920564541217, 'CDV': 0.0010268491076994147, 'SCC': 0.001255932058376755, 'PSE': 0.011280813826285886, 'BTM': 0.002976379842561231, 'RHI': 0.0035112715445846728, 'CEC': 0.002517153744957974, 'FLO': 0.004042985483494859, 'WYS': 0.002976379842561231, 'ADK': 0.001024915664292596, 'BRW': 0.001255932058376755, 'ACK': 0.005838890888400541, 'OME': 0.0010464592471029033, 'PLN': 0.0034475906065718725, 'BJI': 0.0035112715445846728, 'MOT': 0.0035112715445846728, 'MKG': 0.0038821262039302725, 'ALO': 0.0035112715445846728, 'INL': 0.0035112715445846728, 'DLG': 0.0010464592471029033, 'AKN': 0.0010464592471029033, 'GST': 7.278954849060432e-05, 'TUP': 0.004042985483494859}\n"
     ]
    }
   ],
   "source": [
    "## Eigen-Vector Centrality\n",
    "evg = nx.eigenvector_centrality(g) # Eigen vector centrality\n",
    "print(evg)"
   ]
  },
  {
   "cell_type": "code",
   "execution_count": 42,
   "metadata": {
    "colab": {
     "base_uri": "https://localhost:8080/"
    },
    "id": "dgijidFMXtRO",
    "outputId": "c4f04eff-887e-44ff-c5fa-f6f0dce238db"
   },
   "outputs": [
    {
     "name": "stdout",
     "output_type": "stream",
     "text": [
      "{'CVG': 0.26307277628032344, 'DTW': 0.2224887556221889, 'LAX': 0.34050487664945495, 'SFO': 0.3487109905020353, 'ORD': 0.16694245265673838, 'STL': 0.6759183673469388, 'DFW': 0.19150148097516517, 'FSM': 1.0, 'BNA': 0.770048309178744, 'DEN': 0.22489673835635948, 'RNO': 0.8181818181818182, 'LGB': 0.6833333333333333, 'LAS': 0.3545787545787546, 'PDX': 0.6085365853658536, 'JFK': 0.4659498207885305, 'IAH': 0.24963144963144962, 'BRO': 0, 'DCA': 0.5905882352941176, 'IAD': 0.4642857142857143, 'SHV': 1.0, 'LGA': 0.45355587808417996, 'FLL': 0.5248078266946191, 'IYK': 0, 'PHX': 0.3547544409613375, 'MSP': 0.2100550964187328, 'HOU': 0.5625, 'DAL': 0.47058823529411764, 'PHL': 0.6255892255892256, 'EWR': 0.34169278996865204, 'TUL': 0.7863247863247863, 'ABQ': 0.6801801801801802, 'MIA': 0.669750231267345, 'LBB': 0.9047619047619048, 'SAN': 0.5633484162895928, 'HLN': 1.0, 'SLC': 0.22349133828288598, 'LEX': 0.8939393939393939, 'ATL': 0.13355874894336434, 'SJC': 0.7569230769230769, 'MKE': 0.5772432932469935, 'HRL': 0.8, 'GEG': 0.9166666666666666, 'TUS': 0.8078817733990148, 'TYS': 0.967032967032967, 'JAX': 0.8465909090909091, 'SMF': 0.6336134453781512, 'BUR': 0.9358974358974359, 'DSM': 0.9809523809523809, 'MEM': 0.3645614035087719, 'HNL': 0.7572463768115942, 'OGG': 0.8014705882352942, 'SAT': 0.7294871794871794, 'SEA': 0.522077922077922, 'TOL': 1.0, 'PBI': 0.7633333333333333, 'BOS': 0.5587570621468927, 'ALB': 0.8529411764705882, 'RSW': 0.7140151515151515, 'BWI': 0.5473294553146484, 'SDF': 0.8861538461538462, 'MDW': 0.5303983228511531, 'CLE': 0.4706572769953052, 'PSC': 1.0, 'MCO': 0.3542742398164085, 'IND': 0.8364153627311522, 'MSO': 1.0, 'CLT': 0.43333333333333335, 'GSP': 0.9696969696969697, 'AUS': 0.6114285714285714, 'BUF': 0.9380952380952381, 'OAK': 0.6553030303030303, 'ACT': 0, 'MCI': 0.6898550724637681, 'ANC': 0.335978835978836, 'MHT': 0.9411764705882353, 'BHM': 0.8359788359788359, 'CHS': 0.9743589743589743, 'RST': 1.0, 'FNT': 0.7878787878787878, 'OTZ': 1.0, 'ROC': 0.975, 'LFT': 1.0, 'PIT': 0.7932263814616756, 'MSY': 0.8378378378378378, 'OMA': 0.8714285714285714, 'TPA': 0.5265536723163842, 'RDU': 0.7955865272938444, 'KOA': 0.8205128205128205, 'HPN': 0.9166666666666666, 'STX': 1.0, 'STT': 0.9555555555555556, 'HSV': 0.9696969696969697, 'GPT': 1.0, 'SNA': 0.7766666666666666, 'VPS': 1.0, 'XNA': 0.9, 'PIA': 1.0, 'PVD': 0.9473684210526315, 'RDD': 0, 'MYR': 0.9642857142857143, 'FAT': 0.8444444444444444, 'DAB': 0.9047619047619048, 'LIH': 0.9777777777777777, 'ORF': 0.9393939393939394, 'CMH': 0.8996212121212122, 'LNK': 1.0, 'RDM': 1.0, 'CAK': 0.8589743589743589, 'BOI': 0.9333333333333333, 'GUC': 1.0, 'SMX': 1.0, 'EUG': 1.0, 'MAF': 0.8571428571428571, 'SAV': 0.9743589743589743, 'MRY': 0.7857142857142857, 'BZN': 1.0, 'ONT': 0.571969696969697, 'PHF': 0.9333333333333333, 'CAE': 0.9555555555555556, 'KTN': 0.5, 'BTV': 0.9777777777777777, 'OKC': 0.8349753694581281, 'TLH': 0.9285714285714286, 'SLE': 0, 'ICT': 1.0, 'SPS': 0, 'SYR': 0.967032967032967, 'BTR': 1.0, 'TVC': 1.0, 'BFL': 1.0, 'TWF': 0.6666666666666666, 'GJT': 1.0, 'GRR': 0.8676470588235294, 'ISP': 0.8055555555555556, 'SJU': 0.9090909090909091, 'SBA': 0.9642857142857143, 'ILM': 1.0, 'ACV': 0.6666666666666666, 'JAN': 0.8205128205128205, 'CPR': 1.0, 'BIS': 1.0, 'BMI': 1.0, 'ADQ': 0, 'MOB': 1.0, 'AVP': 1.0, 'GSO': 0.9779411764705882, 'DAY': 0.9904761904761905, 'IDA': 1.0, 'FLG': 0, 'SWF': 0.8, 'SRQ': 0.8952380952380953, 'JAC': 0.8571428571428571, 'FWA': 1.0, 'BGR': 0.9333333333333333, 'FAR': 1.0, 'SBN': 1.0, 'COD': 1.0, 'CHA': 1.0, 'ITO': 1.0, 'MDT': 1.0, 'PWM': 0.9636363636363636, 'BDL': 0.8838709677419355, 'RAP': 1.0, 'COS': 0.95, 'PSP': 0.9743589743589743, 'DRO': 1.0, 'LSE': 1.0, 'ELP': 0.803921568627451, 'RIC': 0.954248366013072, 'AMA': 0.8, 'BET': 0, 'ATW': 1.0, 'GGG': 0, 'YKM': 0, 'CID': 1.0, 'MLI': 1.0, 'CRW': 0.9523809523809523, 'MSN': 0.9487179487179487, 'CWA': 1.0, 'GRK': 1.0, 'LIT': 0.8245614035087719, 'TEX': 0, 'ASE': 1.0, 'VLD': 0, 'MFR': 0.7857142857142857, 'CHO': 1.0, 'PNS': 0.9722222222222222, 'EKO': 0, 'OXR': 0, 'MFE': 1.0, 'ROA': 1.0, 'BIL': 1.0, 'AVL': 1.0, 'EGE': 0.9696969696969697, 'SJT': 0, 'ABE': 1.0, 'JNU': 0.19047619047619047, 'SIT': 1.0, 'CRP': 0.6666666666666666, 'TYR': 0, 'MQT': 1.0, 'MGM': 1.0, 'ABI': 0, 'MLU': 1.0, 'LCH': 0, 'CLD': 1.0, 'EVV': 1.0, 'MBS': 1.0, 'BQN': 0.6666666666666666, 'PFN': 1.0, 'SGF': 1.0, 'TXK': 0, 'CMI': 1.0, 'IPL': 1.0, 'YUM': 0.7, 'AEX': 1.0, 'TRI': 1.0, 'MOD': 1.0, 'SCE': 1.0, 'EYW': 1.0, 'MTJ': 1.0, 'CSG': 0, 'PIH': 0, 'OAJ': 0, 'LAN': 1.0, 'CIC': 0, 'FAI': 0.6, 'HDN': 0.9722222222222222, 'FSD': 0.9523809523809523, 'GRB': 0.8214285714285714, 'SBP': 1.0, 'AGS': 1.0, 'MLB': 0, 'BQK': 0, 'FAY': 0, 'RFD': 0, 'LYH': 0, 'DHN': 0, 'AZO': 1.0, 'LAW': 1.0, 'BGM': 0, 'CMX': 0, 'ACY': 0, 'GCC': 0, 'ROW': 0, 'SUN': 0, 'ERI': 0, 'MEI': 0, 'HHH': 0, 'ABY': 0, 'GTF': 1.0, 'BLI': 0, 'YAK': 0, 'DLH': 1.0, 'GNV': 0, 'SPI': 1.0, 'LWS': 0, 'SGU': 0.6666666666666666, 'ELM': 0, 'LRD': 1.0, 'WRG': 0, 'PSG': 0, 'SUX': 0, 'GTR': 0, 'FCA': 1.0, 'BPT': 0, 'MCN': 0, 'DBQ': 0, 'GFK': 0, 'EWN': 0, 'LWB': 0, 'CDC': 0, 'PMD': 0, 'RKS': 0, 'CLL': 1.0, 'CDV': 0, 'SCC': 1.0, 'PSE': 0.8333333333333334, 'BTM': 0, 'RHI': 0, 'CEC': 1.0, 'FLO': 0, 'WYS': 0, 'ADK': 0, 'BRW': 1.0, 'ACK': 0, 'OME': 1.0, 'PLN': 0, 'BJI': 0, 'MOT': 0, 'MKG': 0.6666666666666666, 'ALO': 0, 'INL': 0, 'DLG': 1.0, 'AKN': 1.0, 'GST': 0, 'TUP': 0}\n"
     ]
    }
   ],
   "source": [
    "# cluster coefficient\n",
    "cluster_coeff = nx.clustering(g)\n",
    "print(cluster_coeff)\n",
    "\n"
   ]
  },
  {
   "cell_type": "code",
   "execution_count": 43,
   "metadata": {
    "colab": {
     "base_uri": "https://localhost:8080/"
    },
    "id": "xSgCO0RHXzn4",
    "outputId": "72235030-2acd-42a4-8f07-59bbf61be76c"
   },
   "outputs": [
    {
     "name": "stdout",
     "output_type": "stream",
     "text": [
      "0.6306147937476647\n"
     ]
    }
   ],
   "source": [
    "# Average clustering\n",
    "cc = nx.average_clustering(g) \n",
    "print(cc)"
   ]
  },
  {
   "cell_type": "markdown",
   "metadata": {
    "id": "btlO6-vL-oFu"
   },
   "source": []
  },
  {
   "cell_type": "code",
   "execution_count": 44,
   "metadata": {
    "id": "eBPLkwuhdN5s"
   },
   "outputs": [],
   "source": [
    "from wordcloud import WordCloud, STOPWORDS\n",
    "import matplotlib.pyplot as plt"
   ]
  },
  {
   "cell_type": "code",
   "execution_count": 45,
   "metadata": {
    "colab": {
     "base_uri": "https://localhost:8080/",
     "height": 286
    },
    "id": "bXxjfekQdZFB",
    "outputId": "ef196c12-a629-4b2b-ac53-76ed7478f43e"
   },
   "outputs": [
    {
     "data": {
      "text/plain": [
       "<matplotlib.image.AxesImage at 0x18e78185070>"
      ]
     },
     "execution_count": 45,
     "metadata": {},
     "output_type": "execute_result"
    }
   ],
   "source": [
    "f1=df.iloc[:,[11,12]]\n",
    "\n",
    "f1_string=' '.join(f1.Source)\n",
    "wordcloud_ip = WordCloud(\n",
    "                      background_color='black',\n",
    "                      width=1800,\n",
    "                      height=1400\n",
    "                     ).generate(f1_string)\n",
    "\n",
    "plt.imshow(wordcloud_ip)\n",
    "\n",
    "\n"
   ]
  },
  {
   "cell_type": "code",
   "execution_count": 46,
   "metadata": {
    "colab": {
     "base_uri": "https://localhost:8080/",
     "height": 286
    },
    "id": "jt4P_0JfduGx",
    "outputId": "3cfda154-aff3-44b7-eb07-bae06f28b625"
   },
   "outputs": [
    {
     "data": {
      "text/plain": [
       "<matplotlib.image.AxesImage at 0x18e781c8250>"
      ]
     },
     "execution_count": 46,
     "metadata": {},
     "output_type": "execute_result"
    }
   ],
   "source": [
    "f2_string=' '.join(f1.Destination)\n",
    "\n",
    "wordcloud_ip = WordCloud(\n",
    "                      background_color='black',\n",
    "                      width=1800,\n",
    "                      height=1400\n",
    "                     ).generate(f2_string)\n",
    "\n",
    "plt.imshow(wordcloud_ip)\n",
    "\n"
   ]
  },
  {
   "cell_type": "code",
   "execution_count": 47,
   "metadata": {
    "colab": {
     "base_uri": "https://localhost:8080/",
     "height": 286
    },
    "id": "2XkSD2iDdxMN",
    "outputId": "380511eb-71d9-4559-985f-1a56b0960c17"
   },
   "outputs": [
    {
     "data": {
      "text/plain": [
       "<matplotlib.image.AxesImage at 0x18e7cbc0fa0>"
      ]
     },
     "execution_count": 47,
     "metadata": {},
     "output_type": "execute_result"
    }
   ],
   "source": [
    "f3_string=' '.join(df.Carrier_Name)\n",
    "\n",
    "wordcloud_ip = WordCloud(\n",
    "                      background_color='black',\n",
    "                      width=1800,\n",
    "                      height=1400\n",
    "                     ).generate(f3_string)\n",
    "\n",
    "plt.imshow(wordcloud_ip)\n"
   ]
  },
  {
   "cell_type": "code",
   "execution_count": 48,
   "metadata": {
    "colab": {
     "base_uri": "https://localhost:8080/"
    },
    "id": "Cj4MY9jrFdjK",
    "outputId": "38977dd3-dd1a-4ed3-aef7-67df83c73cb3"
   },
   "outputs": [
    {
     "data": {
      "text/plain": [
       "Index(['Year', 'Month', 'DayofMonth', 'DayOfWeek', 'Actual_Shipment_Time',\n",
       "       'Planned_Shipment_Time', 'Planned_Delivery_Time', 'Carrier_Num',\n",
       "       'Planned_TimeofTravel', 'Shipment_Delay', 'Source', 'Destination',\n",
       "       'Distance', 'Delivery_Status'],\n",
       "      dtype='object')"
      ]
     },
     "execution_count": 48,
     "metadata": {},
     "output_type": "execute_result"
    }
   ],
   "source": [
    "df1.columns"
   ]
  },
  {
   "cell_type": "code",
   "execution_count": 49,
   "metadata": {
    "id": "xOSLaBltFfrT"
   },
   "outputs": [],
   "source": [
    "Source_dummies=pd.get_dummies(df1.Source)"
   ]
  },
  {
   "cell_type": "code",
   "execution_count": 50,
   "metadata": {
    "id": "Sj0oig9IHl61"
   },
   "outputs": [],
   "source": [
    "Destination_dummies=pd.get_dummies(df1.Destination)"
   ]
  },
  {
   "cell_type": "markdown",
   "metadata": {
    "id": "7FTq9kz6CZai"
   },
   "source": [
    "considering cyclic columns"
   ]
  },
  {
   "cell_type": "code",
   "execution_count": 51,
   "metadata": {
    "id": "-eNm6RweCR5d"
   },
   "outputs": [],
   "source": [
    "cyc=df1[['Month', 'DayofMonth', 'DayOfWeek', 'Actual_Shipment_Time',\n",
    "       'Planned_Shipment_Time', 'Planned_Delivery_Time']]"
   ]
  },
  {
   "cell_type": "code",
   "execution_count": 52,
   "metadata": {
    "colab": {
     "base_uri": "https://localhost:8080/",
     "height": 250
    },
    "id": "slYgkDD5CTan",
    "outputId": "c3353feb-cb22-4b3e-8257-c4f231ed54a4"
   },
   "outputs": [
    {
     "data": {
      "text/html": [
       "<div>\n",
       "<style scoped>\n",
       "    .dataframe tbody tr th:only-of-type {\n",
       "        vertical-align: middle;\n",
       "    }\n",
       "\n",
       "    .dataframe tbody tr th {\n",
       "        vertical-align: top;\n",
       "    }\n",
       "\n",
       "    .dataframe thead th {\n",
       "        text-align: right;\n",
       "    }\n",
       "</style>\n",
       "<table border=\"1\" class=\"dataframe\">\n",
       "  <thead>\n",
       "    <tr style=\"text-align: right;\">\n",
       "      <th></th>\n",
       "      <th>Month</th>\n",
       "      <th>DayofMonth</th>\n",
       "      <th>DayOfWeek</th>\n",
       "      <th>Actual_Shipment_Time</th>\n",
       "      <th>Planned_Shipment_Time</th>\n",
       "      <th>Planned_Delivery_Time</th>\n",
       "    </tr>\n",
       "  </thead>\n",
       "  <tbody>\n",
       "    <tr>\n",
       "      <th>1039382</th>\n",
       "      <td>2</td>\n",
       "      <td>21</td>\n",
       "      <td>4</td>\n",
       "      <td>925.0</td>\n",
       "      <td>930</td>\n",
       "      <td>1054</td>\n",
       "    </tr>\n",
       "    <tr>\n",
       "      <th>889189</th>\n",
       "      <td>2</td>\n",
       "      <td>2</td>\n",
       "      <td>6</td>\n",
       "      <td>1745.0</td>\n",
       "      <td>1740</td>\n",
       "      <td>1905</td>\n",
       "    </tr>\n",
       "    <tr>\n",
       "      <th>3512646</th>\n",
       "      <td>6</td>\n",
       "      <td>8</td>\n",
       "      <td>7</td>\n",
       "      <td>1150.0</td>\n",
       "      <td>1150</td>\n",
       "      <td>1250</td>\n",
       "    </tr>\n",
       "    <tr>\n",
       "      <th>973993</th>\n",
       "      <td>2</td>\n",
       "      <td>8</td>\n",
       "      <td>5</td>\n",
       "      <td>1136.0</td>\n",
       "      <td>1140</td>\n",
       "      <td>1240</td>\n",
       "    </tr>\n",
       "    <tr>\n",
       "      <th>2736274</th>\n",
       "      <td>5</td>\n",
       "      <td>19</td>\n",
       "      <td>1</td>\n",
       "      <td>722.0</td>\n",
       "      <td>725</td>\n",
       "      <td>912</td>\n",
       "    </tr>\n",
       "  </tbody>\n",
       "</table>\n",
       "</div>"
      ],
      "text/plain": [
       "         Month  DayofMonth  DayOfWeek  Actual_Shipment_Time  \\\n",
       "1039382      2          21          4                 925.0   \n",
       "889189       2           2          6                1745.0   \n",
       "3512646      6           8          7                1150.0   \n",
       "973993       2           8          5                1136.0   \n",
       "2736274      5          19          1                 722.0   \n",
       "\n",
       "         Planned_Shipment_Time  Planned_Delivery_Time  \n",
       "1039382                    930                   1054  \n",
       "889189                    1740                   1905  \n",
       "3512646                   1150                   1250  \n",
       "973993                    1140                   1240  \n",
       "2736274                    725                    912  "
      ]
     },
     "execution_count": 52,
     "metadata": {},
     "output_type": "execute_result"
    }
   ],
   "source": [
    "cyc.head()"
   ]
  },
  {
   "cell_type": "code",
   "execution_count": 53,
   "metadata": {
    "colab": {
     "base_uri": "https://localhost:8080/"
    },
    "id": "C6mxCdcuFLno",
    "outputId": "11d16978-8701-403a-b1a4-5c640eb7773b"
   },
   "outputs": [
    {
     "data": {
      "text/plain": [
       "Month                      int64\n",
       "DayofMonth                 int64\n",
       "DayOfWeek                  int64\n",
       "Actual_Shipment_Time     float64\n",
       "Planned_Shipment_Time      int64\n",
       "Planned_Delivery_Time      int64\n",
       "dtype: object"
      ]
     },
     "execution_count": 53,
     "metadata": {},
     "output_type": "execute_result"
    }
   ],
   "source": [
    "cyc.dtypes"
   ]
  },
  {
   "cell_type": "code",
   "execution_count": 54,
   "metadata": {
    "colab": {
     "base_uri": "https://localhost:8080/"
    },
    "id": "K0zmOCvdDUXZ",
    "outputId": "f5eea434-3401-4a4c-9c0c-1e48967f147a"
   },
   "outputs": [
    {
     "name": "stderr",
     "output_type": "stream",
     "text": [
      "<ipython-input-54-f5fd0ed8a86f>:1: SettingWithCopyWarning: \n",
      "A value is trying to be set on a copy of a slice from a DataFrame.\n",
      "Try using .loc[row_indexer,col_indexer] = value instead\n",
      "\n",
      "See the caveats in the documentation: https://pandas.pydata.org/pandas-docs/stable/user_guide/indexing.html#returning-a-view-versus-a-copy\n",
      "  cyc['Actual_Shipment_Time']=cyc['Actual_Shipment_Time'].astype(int)\n"
     ]
    }
   ],
   "source": [
    "cyc['Actual_Shipment_Time']=cyc['Actual_Shipment_Time'].astype(int)\n"
   ]
  },
  {
   "cell_type": "code",
   "execution_count": 55,
   "metadata": {
    "colab": {
     "base_uri": "https://localhost:8080/"
    },
    "id": "-9c23goiFHIU",
    "outputId": "bdbd78fb-a4e5-496c-db73-15deb2511df8"
   },
   "outputs": [
    {
     "name": "stderr",
     "output_type": "stream",
     "text": [
      "<ipython-input-55-b5b0181902d7>:1: SettingWithCopyWarning: \n",
      "A value is trying to be set on a copy of a slice from a DataFrame.\n",
      "Try using .loc[row_indexer,col_indexer] = value instead\n",
      "\n",
      "See the caveats in the documentation: https://pandas.pydata.org/pandas-docs/stable/user_guide/indexing.html#returning-a-view-versus-a-copy\n",
      "  cyc['Actual_Shipment_Time']=cyc['Actual_Shipment_Time'].astype(str)\n",
      "<ipython-input-55-b5b0181902d7>:2: SettingWithCopyWarning: \n",
      "A value is trying to be set on a copy of a slice from a DataFrame.\n",
      "Try using .loc[row_indexer,col_indexer] = value instead\n",
      "\n",
      "See the caveats in the documentation: https://pandas.pydata.org/pandas-docs/stable/user_guide/indexing.html#returning-a-view-versus-a-copy\n",
      "  cyc['Actual_Shipment_Time2']=cyc['Actual_Shipment_Time'].str.slice(-2,)\n",
      "<ipython-input-55-b5b0181902d7>:3: SettingWithCopyWarning: \n",
      "A value is trying to be set on a copy of a slice from a DataFrame.\n",
      "Try using .loc[row_indexer,col_indexer] = value instead\n",
      "\n",
      "See the caveats in the documentation: https://pandas.pydata.org/pandas-docs/stable/user_guide/indexing.html#returning-a-view-versus-a-copy\n",
      "  cyc['Actual_Shipment_Time1']=cyc['Actual_Shipment_Time'].str.slice(-4,-2)\n"
     ]
    }
   ],
   "source": [
    "cyc['Actual_Shipment_Time']=cyc['Actual_Shipment_Time'].astype(str)\n",
    "cyc['Actual_Shipment_Time2']=cyc['Actual_Shipment_Time'].str.slice(-2,)\n",
    "cyc['Actual_Shipment_Time1']=cyc['Actual_Shipment_Time'].str.slice(-4,-2)\n"
   ]
  },
  {
   "cell_type": "code",
   "execution_count": 56,
   "metadata": {
    "colab": {
     "base_uri": "https://localhost:8080/"
    },
    "id": "YnQ3qh7PDfYg",
    "outputId": "3f054571-7075-491f-b022-e5621e0839c2"
   },
   "outputs": [
    {
     "name": "stderr",
     "output_type": "stream",
     "text": [
      "<ipython-input-56-cd3fc6d31ab0>:1: SettingWithCopyWarning: \n",
      "A value is trying to be set on a copy of a slice from a DataFrame.\n",
      "Try using .loc[row_indexer,col_indexer] = value instead\n",
      "\n",
      "See the caveats in the documentation: https://pandas.pydata.org/pandas-docs/stable/user_guide/indexing.html#returning-a-view-versus-a-copy\n",
      "  cyc['Planned_Shipment_Time']=cyc['Planned_Shipment_Time'].astype(str)\n",
      "<ipython-input-56-cd3fc6d31ab0>:2: SettingWithCopyWarning: \n",
      "A value is trying to be set on a copy of a slice from a DataFrame.\n",
      "Try using .loc[row_indexer,col_indexer] = value instead\n",
      "\n",
      "See the caveats in the documentation: https://pandas.pydata.org/pandas-docs/stable/user_guide/indexing.html#returning-a-view-versus-a-copy\n",
      "  cyc['Planned_Shipment_Time1']=cyc['Planned_Shipment_Time'].str.slice(-4,-2)\n",
      "<ipython-input-56-cd3fc6d31ab0>:4: SettingWithCopyWarning: \n",
      "A value is trying to be set on a copy of a slice from a DataFrame.\n",
      "Try using .loc[row_indexer,col_indexer] = value instead\n",
      "\n",
      "See the caveats in the documentation: https://pandas.pydata.org/pandas-docs/stable/user_guide/indexing.html#returning-a-view-versus-a-copy\n",
      "  cyc['Planned_Shipment_Time2']=cyc['Planned_Shipment_Time'].str.slice(-2,)\n"
     ]
    }
   ],
   "source": [
    "cyc['Planned_Shipment_Time']=cyc['Planned_Shipment_Time'].astype(str)\n",
    "cyc['Planned_Shipment_Time1']=cyc['Planned_Shipment_Time'].str.slice(-4,-2)\n",
    "\n",
    "cyc['Planned_Shipment_Time2']=cyc['Planned_Shipment_Time'].str.slice(-2,)\n"
   ]
  },
  {
   "cell_type": "code",
   "execution_count": 57,
   "metadata": {
    "colab": {
     "base_uri": "https://localhost:8080/"
    },
    "id": "OtY23YMZDtBG",
    "outputId": "762a5808-7a50-491a-a25f-a2d88da684ca"
   },
   "outputs": [
    {
     "name": "stderr",
     "output_type": "stream",
     "text": [
      "<ipython-input-57-546358a8e0f0>:1: SettingWithCopyWarning: \n",
      "A value is trying to be set on a copy of a slice from a DataFrame.\n",
      "Try using .loc[row_indexer,col_indexer] = value instead\n",
      "\n",
      "See the caveats in the documentation: https://pandas.pydata.org/pandas-docs/stable/user_guide/indexing.html#returning-a-view-versus-a-copy\n",
      "  cyc['Planned_Delivery_Time']=cyc['Planned_Delivery_Time'].astype(str)\n",
      "<ipython-input-57-546358a8e0f0>:2: SettingWithCopyWarning: \n",
      "A value is trying to be set on a copy of a slice from a DataFrame.\n",
      "Try using .loc[row_indexer,col_indexer] = value instead\n",
      "\n",
      "See the caveats in the documentation: https://pandas.pydata.org/pandas-docs/stable/user_guide/indexing.html#returning-a-view-versus-a-copy\n",
      "  cyc['Planned_Delivery_Time1']=cyc['Planned_Delivery_Time'].str.slice(-4,-2)\n",
      "<ipython-input-57-546358a8e0f0>:4: SettingWithCopyWarning: \n",
      "A value is trying to be set on a copy of a slice from a DataFrame.\n",
      "Try using .loc[row_indexer,col_indexer] = value instead\n",
      "\n",
      "See the caveats in the documentation: https://pandas.pydata.org/pandas-docs/stable/user_guide/indexing.html#returning-a-view-versus-a-copy\n",
      "  cyc['Planned_Delivery_Time2']=cyc['Planned_Delivery_Time'].str.slice(-2,)\n"
     ]
    }
   ],
   "source": [
    "cyc['Planned_Delivery_Time']=cyc['Planned_Delivery_Time'].astype(str)\n",
    "cyc['Planned_Delivery_Time1']=cyc['Planned_Delivery_Time'].str.slice(-4,-2)\n",
    "\n",
    "cyc['Planned_Delivery_Time2']=cyc['Planned_Delivery_Time'].str.slice(-2,)\n"
   ]
  },
  {
   "cell_type": "code",
   "execution_count": 58,
   "metadata": {
    "colab": {
     "base_uri": "https://localhost:8080/",
     "height": 270
    },
    "id": "u_hRh_zYD4vW",
    "outputId": "a78d7730-dfa6-4b4f-db11-2b5f14f5eef5"
   },
   "outputs": [
    {
     "data": {
      "text/html": [
       "<div>\n",
       "<style scoped>\n",
       "    .dataframe tbody tr th:only-of-type {\n",
       "        vertical-align: middle;\n",
       "    }\n",
       "\n",
       "    .dataframe tbody tr th {\n",
       "        vertical-align: top;\n",
       "    }\n",
       "\n",
       "    .dataframe thead th {\n",
       "        text-align: right;\n",
       "    }\n",
       "</style>\n",
       "<table border=\"1\" class=\"dataframe\">\n",
       "  <thead>\n",
       "    <tr style=\"text-align: right;\">\n",
       "      <th></th>\n",
       "      <th>Month</th>\n",
       "      <th>DayofMonth</th>\n",
       "      <th>DayOfWeek</th>\n",
       "      <th>Actual_Shipment_Time</th>\n",
       "      <th>Planned_Shipment_Time</th>\n",
       "      <th>Planned_Delivery_Time</th>\n",
       "      <th>Actual_Shipment_Time2</th>\n",
       "      <th>Actual_Shipment_Time1</th>\n",
       "      <th>Planned_Shipment_Time1</th>\n",
       "      <th>Planned_Shipment_Time2</th>\n",
       "      <th>Planned_Delivery_Time1</th>\n",
       "      <th>Planned_Delivery_Time2</th>\n",
       "    </tr>\n",
       "  </thead>\n",
       "  <tbody>\n",
       "    <tr>\n",
       "      <th>1039382</th>\n",
       "      <td>2</td>\n",
       "      <td>21</td>\n",
       "      <td>4</td>\n",
       "      <td>925</td>\n",
       "      <td>930</td>\n",
       "      <td>1054</td>\n",
       "      <td>25</td>\n",
       "      <td>9</td>\n",
       "      <td>9</td>\n",
       "      <td>30</td>\n",
       "      <td>10</td>\n",
       "      <td>54</td>\n",
       "    </tr>\n",
       "    <tr>\n",
       "      <th>889189</th>\n",
       "      <td>2</td>\n",
       "      <td>2</td>\n",
       "      <td>6</td>\n",
       "      <td>1745</td>\n",
       "      <td>1740</td>\n",
       "      <td>1905</td>\n",
       "      <td>45</td>\n",
       "      <td>17</td>\n",
       "      <td>17</td>\n",
       "      <td>40</td>\n",
       "      <td>19</td>\n",
       "      <td>05</td>\n",
       "    </tr>\n",
       "    <tr>\n",
       "      <th>3512646</th>\n",
       "      <td>6</td>\n",
       "      <td>8</td>\n",
       "      <td>7</td>\n",
       "      <td>1150</td>\n",
       "      <td>1150</td>\n",
       "      <td>1250</td>\n",
       "      <td>50</td>\n",
       "      <td>11</td>\n",
       "      <td>11</td>\n",
       "      <td>50</td>\n",
       "      <td>12</td>\n",
       "      <td>50</td>\n",
       "    </tr>\n",
       "    <tr>\n",
       "      <th>973993</th>\n",
       "      <td>2</td>\n",
       "      <td>8</td>\n",
       "      <td>5</td>\n",
       "      <td>1136</td>\n",
       "      <td>1140</td>\n",
       "      <td>1240</td>\n",
       "      <td>36</td>\n",
       "      <td>11</td>\n",
       "      <td>11</td>\n",
       "      <td>40</td>\n",
       "      <td>12</td>\n",
       "      <td>40</td>\n",
       "    </tr>\n",
       "    <tr>\n",
       "      <th>2736274</th>\n",
       "      <td>5</td>\n",
       "      <td>19</td>\n",
       "      <td>1</td>\n",
       "      <td>722</td>\n",
       "      <td>725</td>\n",
       "      <td>912</td>\n",
       "      <td>22</td>\n",
       "      <td>7</td>\n",
       "      <td>7</td>\n",
       "      <td>25</td>\n",
       "      <td>9</td>\n",
       "      <td>12</td>\n",
       "    </tr>\n",
       "  </tbody>\n",
       "</table>\n",
       "</div>"
      ],
      "text/plain": [
       "         Month  DayofMonth  DayOfWeek Actual_Shipment_Time  \\\n",
       "1039382      2          21          4                  925   \n",
       "889189       2           2          6                 1745   \n",
       "3512646      6           8          7                 1150   \n",
       "973993       2           8          5                 1136   \n",
       "2736274      5          19          1                  722   \n",
       "\n",
       "        Planned_Shipment_Time Planned_Delivery_Time Actual_Shipment_Time2  \\\n",
       "1039382                   930                  1054                    25   \n",
       "889189                   1740                  1905                    45   \n",
       "3512646                  1150                  1250                    50   \n",
       "973993                   1140                  1240                    36   \n",
       "2736274                   725                   912                    22   \n",
       "\n",
       "        Actual_Shipment_Time1 Planned_Shipment_Time1 Planned_Shipment_Time2  \\\n",
       "1039382                     9                      9                     30   \n",
       "889189                     17                     17                     40   \n",
       "3512646                    11                     11                     50   \n",
       "973993                     11                     11                     40   \n",
       "2736274                     7                      7                     25   \n",
       "\n",
       "        Planned_Delivery_Time1 Planned_Delivery_Time2  \n",
       "1039382                     10                     54  \n",
       "889189                      19                     05  \n",
       "3512646                     12                     50  \n",
       "973993                      12                     40  \n",
       "2736274                      9                     12  "
      ]
     },
     "execution_count": 58,
     "metadata": {},
     "output_type": "execute_result"
    }
   ],
   "source": [
    "cyc.head()"
   ]
  },
  {
   "cell_type": "code",
   "execution_count": 59,
   "metadata": {
    "id": "4Yj7T5h_Fcwa"
   },
   "outputs": [],
   "source": [
    "cyc=cyc.drop(columns=['Actual_Shipment_Time',\n",
    "       'Planned_Shipment_Time', 'Planned_Delivery_Time'])"
   ]
  },
  {
   "cell_type": "code",
   "execution_count": 60,
   "metadata": {
    "colab": {
     "base_uri": "https://localhost:8080/"
    },
    "id": "9z5fi__tFmyP",
    "outputId": "2aa679db-0963-4573-cd1e-0fb307338ce4"
   },
   "outputs": [
    {
     "data": {
      "text/plain": [
       "Month                      int64\n",
       "DayofMonth                 int64\n",
       "DayOfWeek                  int64\n",
       "Actual_Shipment_Time2     object\n",
       "Actual_Shipment_Time1     object\n",
       "Planned_Shipment_Time1    object\n",
       "Planned_Shipment_Time2    object\n",
       "Planned_Delivery_Time1    object\n",
       "Planned_Delivery_Time2    object\n",
       "dtype: object"
      ]
     },
     "execution_count": 60,
     "metadata": {},
     "output_type": "execute_result"
    }
   ],
   "source": [
    "cyc.dtypes\n",
    "\n"
   ]
  },
  {
   "cell_type": "code",
   "execution_count": 61,
   "metadata": {
    "id": "tbbupZtDGUbO"
   },
   "outputs": [],
   "source": [
    "cyc['Planned_Shipment_Time1'].replace('','0',inplace=True)\n",
    "cyc['Planned_Shipment_Time2'].replace('','0',inplace=True)\n",
    "cyc['Planned_Shipment_Time1']=cyc['Planned_Shipment_Time1'].astype(int)\n",
    "cyc['Planned_Shipment_Time2']=cyc['Planned_Shipment_Time2'].astype(int)\n"
   ]
  },
  {
   "cell_type": "code",
   "execution_count": 62,
   "metadata": {
    "id": "zkjmdDk5GvzH"
   },
   "outputs": [],
   "source": [
    "cyc['Planned_Delivery_Time1'].replace('','0',inplace=True)\n",
    "\n",
    "cyc['Planned_Delivery_Time1']=cyc['Planned_Delivery_Time1'].astype(int)\n",
    "cyc['Planned_Delivery_Time2']=cyc['Planned_Delivery_Time2'].astype(int)\n"
   ]
  },
  {
   "cell_type": "code",
   "execution_count": 63,
   "metadata": {
    "id": "XiT7XHQbHBSm"
   },
   "outputs": [],
   "source": [
    "cyc['Actual_Shipment_Time1'].replace('','0',inplace=True)\n",
    "cyc['Actual_Shipment_Time1']=cyc['Actual_Shipment_Time1'].astype(int)\n",
    "cyc['Actual_Shipment_Time2']=cyc['Actual_Shipment_Time2'].astype(int)\n"
   ]
  },
  {
   "cell_type": "code",
   "execution_count": 64,
   "metadata": {
    "id": "4QtSsh4bR9Zw"
   },
   "outputs": [],
   "source": [
    "from feature_engine.creation import CyclicalFeatures\n",
    "\n",
    "cyclical = CyclicalFeatures(variables=None, drop_original=True)\n"
   ]
  },
  {
   "cell_type": "code",
   "execution_count": 65,
   "metadata": {
    "id": "qzBO-IyASCQs"
   },
   "outputs": [],
   "source": [
    "cyc_data=cyclical.fit_transform(cyc)"
   ]
  },
  {
   "cell_type": "code",
   "execution_count": 66,
   "metadata": {
    "colab": {
     "base_uri": "https://localhost:8080/",
     "height": 357
    },
    "id": "Z_csiJLoSM_s",
    "outputId": "5af8740b-4658-4c6d-b2e3-defacedf5a3a"
   },
   "outputs": [
    {
     "data": {
      "text/html": [
       "<div>\n",
       "<style scoped>\n",
       "    .dataframe tbody tr th:only-of-type {\n",
       "        vertical-align: middle;\n",
       "    }\n",
       "\n",
       "    .dataframe tbody tr th {\n",
       "        vertical-align: top;\n",
       "    }\n",
       "\n",
       "    .dataframe thead th {\n",
       "        text-align: right;\n",
       "    }\n",
       "</style>\n",
       "<table border=\"1\" class=\"dataframe\">\n",
       "  <thead>\n",
       "    <tr style=\"text-align: right;\">\n",
       "      <th></th>\n",
       "      <th>Month_sin</th>\n",
       "      <th>Month_cos</th>\n",
       "      <th>DayofMonth_sin</th>\n",
       "      <th>DayofMonth_cos</th>\n",
       "      <th>DayOfWeek_sin</th>\n",
       "      <th>DayOfWeek_cos</th>\n",
       "      <th>Actual_Shipment_Time2_sin</th>\n",
       "      <th>Actual_Shipment_Time2_cos</th>\n",
       "      <th>Actual_Shipment_Time1_sin</th>\n",
       "      <th>Actual_Shipment_Time1_cos</th>\n",
       "      <th>Planned_Shipment_Time1_sin</th>\n",
       "      <th>Planned_Shipment_Time1_cos</th>\n",
       "      <th>Planned_Shipment_Time2_sin</th>\n",
       "      <th>Planned_Shipment_Time2_cos</th>\n",
       "      <th>Planned_Delivery_Time1_sin</th>\n",
       "      <th>Planned_Delivery_Time1_cos</th>\n",
       "      <th>Planned_Delivery_Time2_sin</th>\n",
       "      <th>Planned_Delivery_Time2_cos</th>\n",
       "    </tr>\n",
       "  </thead>\n",
       "  <tbody>\n",
       "    <tr>\n",
       "      <th>1039382</th>\n",
       "      <td>8.660254e-01</td>\n",
       "      <td>-0.5</td>\n",
       "      <td>-0.897805</td>\n",
       "      <td>-0.440394</td>\n",
       "      <td>-4.338837e-01</td>\n",
       "      <td>-0.900969</td>\n",
       "      <td>0.461093</td>\n",
       "      <td>-0.887352</td>\n",
       "      <td>0.707107</td>\n",
       "      <td>-0.707107</td>\n",
       "      <td>0.631088</td>\n",
       "      <td>-0.775711</td>\n",
       "      <td>-0.053222</td>\n",
       "      <td>-0.998583</td>\n",
       "      <td>0.398401</td>\n",
       "      <td>-0.917211</td>\n",
       "      <td>-0.507666</td>\n",
       "      <td>0.861554</td>\n",
       "    </tr>\n",
       "    <tr>\n",
       "      <th>889189</th>\n",
       "      <td>8.660254e-01</td>\n",
       "      <td>-0.5</td>\n",
       "      <td>0.394356</td>\n",
       "      <td>0.918958</td>\n",
       "      <td>-7.818315e-01</td>\n",
       "      <td>0.623490</td>\n",
       "      <td>-0.996812</td>\n",
       "      <td>0.079786</td>\n",
       "      <td>-0.965926</td>\n",
       "      <td>-0.258819</td>\n",
       "      <td>-0.997669</td>\n",
       "      <td>-0.068242</td>\n",
       "      <td>-0.899312</td>\n",
       "      <td>-0.437307</td>\n",
       "      <td>-0.887885</td>\n",
       "      <td>0.460065</td>\n",
       "      <td>0.507666</td>\n",
       "      <td>0.861554</td>\n",
       "    </tr>\n",
       "    <tr>\n",
       "      <th>3512646</th>\n",
       "      <td>-2.449294e-16</td>\n",
       "      <td>1.0</td>\n",
       "      <td>0.998717</td>\n",
       "      <td>-0.050649</td>\n",
       "      <td>-2.449294e-16</td>\n",
       "      <td>1.000000</td>\n",
       "      <td>-0.818303</td>\n",
       "      <td>0.574787</td>\n",
       "      <td>0.258819</td>\n",
       "      <td>-0.965926</td>\n",
       "      <td>0.136167</td>\n",
       "      <td>-0.990686</td>\n",
       "      <td>-0.818303</td>\n",
       "      <td>0.574787</td>\n",
       "      <td>-0.136167</td>\n",
       "      <td>-0.990686</td>\n",
       "      <td>-0.818303</td>\n",
       "      <td>0.574787</td>\n",
       "    </tr>\n",
       "    <tr>\n",
       "      <th>973993</th>\n",
       "      <td>8.660254e-01</td>\n",
       "      <td>-0.5</td>\n",
       "      <td>0.998717</td>\n",
       "      <td>-0.050649</td>\n",
       "      <td>-9.749279e-01</td>\n",
       "      <td>-0.222521</td>\n",
       "      <td>-0.638244</td>\n",
       "      <td>-0.769834</td>\n",
       "      <td>0.258819</td>\n",
       "      <td>-0.965926</td>\n",
       "      <td>0.136167</td>\n",
       "      <td>-0.990686</td>\n",
       "      <td>-0.899312</td>\n",
       "      <td>-0.437307</td>\n",
       "      <td>-0.136167</td>\n",
       "      <td>-0.990686</td>\n",
       "      <td>-0.899312</td>\n",
       "      <td>-0.437307</td>\n",
       "    </tr>\n",
       "    <tr>\n",
       "      <th>2736274</th>\n",
       "      <td>-8.660254e-01</td>\n",
       "      <td>0.5</td>\n",
       "      <td>-0.651372</td>\n",
       "      <td>-0.758758</td>\n",
       "      <td>7.818315e-01</td>\n",
       "      <td>0.623490</td>\n",
       "      <td>0.716457</td>\n",
       "      <td>-0.697632</td>\n",
       "      <td>0.965926</td>\n",
       "      <td>-0.258819</td>\n",
       "      <td>0.942261</td>\n",
       "      <td>-0.334880</td>\n",
       "      <td>0.461093</td>\n",
       "      <td>-0.887352</td>\n",
       "      <td>0.631088</td>\n",
       "      <td>-0.775711</td>\n",
       "      <td>0.957422</td>\n",
       "      <td>0.288692</td>\n",
       "    </tr>\n",
       "  </tbody>\n",
       "</table>\n",
       "</div>"
      ],
      "text/plain": [
       "            Month_sin  Month_cos  DayofMonth_sin  DayofMonth_cos  \\\n",
       "1039382  8.660254e-01       -0.5       -0.897805       -0.440394   \n",
       "889189   8.660254e-01       -0.5        0.394356        0.918958   \n",
       "3512646 -2.449294e-16        1.0        0.998717       -0.050649   \n",
       "973993   8.660254e-01       -0.5        0.998717       -0.050649   \n",
       "2736274 -8.660254e-01        0.5       -0.651372       -0.758758   \n",
       "\n",
       "         DayOfWeek_sin  DayOfWeek_cos  Actual_Shipment_Time2_sin  \\\n",
       "1039382  -4.338837e-01      -0.900969                   0.461093   \n",
       "889189   -7.818315e-01       0.623490                  -0.996812   \n",
       "3512646  -2.449294e-16       1.000000                  -0.818303   \n",
       "973993   -9.749279e-01      -0.222521                  -0.638244   \n",
       "2736274   7.818315e-01       0.623490                   0.716457   \n",
       "\n",
       "         Actual_Shipment_Time2_cos  Actual_Shipment_Time1_sin  \\\n",
       "1039382                  -0.887352                   0.707107   \n",
       "889189                    0.079786                  -0.965926   \n",
       "3512646                   0.574787                   0.258819   \n",
       "973993                   -0.769834                   0.258819   \n",
       "2736274                  -0.697632                   0.965926   \n",
       "\n",
       "         Actual_Shipment_Time1_cos  Planned_Shipment_Time1_sin  \\\n",
       "1039382                  -0.707107                    0.631088   \n",
       "889189                   -0.258819                   -0.997669   \n",
       "3512646                  -0.965926                    0.136167   \n",
       "973993                   -0.965926                    0.136167   \n",
       "2736274                  -0.258819                    0.942261   \n",
       "\n",
       "         Planned_Shipment_Time1_cos  Planned_Shipment_Time2_sin  \\\n",
       "1039382                   -0.775711                   -0.053222   \n",
       "889189                    -0.068242                   -0.899312   \n",
       "3512646                   -0.990686                   -0.818303   \n",
       "973993                    -0.990686                   -0.899312   \n",
       "2736274                   -0.334880                    0.461093   \n",
       "\n",
       "         Planned_Shipment_Time2_cos  Planned_Delivery_Time1_sin  \\\n",
       "1039382                   -0.998583                    0.398401   \n",
       "889189                    -0.437307                   -0.887885   \n",
       "3512646                    0.574787                   -0.136167   \n",
       "973993                    -0.437307                   -0.136167   \n",
       "2736274                   -0.887352                    0.631088   \n",
       "\n",
       "         Planned_Delivery_Time1_cos  Planned_Delivery_Time2_sin  \\\n",
       "1039382                   -0.917211                   -0.507666   \n",
       "889189                     0.460065                    0.507666   \n",
       "3512646                   -0.990686                   -0.818303   \n",
       "973993                    -0.990686                   -0.899312   \n",
       "2736274                   -0.775711                    0.957422   \n",
       "\n",
       "         Planned_Delivery_Time2_cos  \n",
       "1039382                    0.861554  \n",
       "889189                     0.861554  \n",
       "3512646                    0.574787  \n",
       "973993                    -0.437307  \n",
       "2736274                    0.288692  "
      ]
     },
     "execution_count": 66,
     "metadata": {},
     "output_type": "execute_result"
    }
   ],
   "source": [
    "cyc_data.head()"
   ]
  },
  {
   "cell_type": "code",
   "execution_count": 67,
   "metadata": {
    "id": "FBS80M-hHQdU"
   },
   "outputs": [],
   "source": [
    "# Normalization function \n",
    "def norm_func(i):\n",
    "    x = (i - i.min())\t/ (i.max() - i.min())\n",
    "    return (x)"
   ]
  },
  {
   "cell_type": "code",
   "execution_count": 68,
   "metadata": {
    "colab": {
     "base_uri": "https://localhost:8080/"
    },
    "id": "nz0b-NCcR1xw",
    "outputId": "b85495b6-b2d8-422f-872b-300d4d0ab9ba"
   },
   "outputs": [
    {
     "data": {
      "text/plain": [
       "Year                       int64\n",
       "Month                      int64\n",
       "DayofMonth                 int64\n",
       "DayOfWeek                  int64\n",
       "Actual_Shipment_Time     float64\n",
       "Planned_Shipment_Time      int64\n",
       "Planned_Delivery_Time      int64\n",
       "Carrier_Num                int64\n",
       "Planned_TimeofTravel     float64\n",
       "Shipment_Delay           float64\n",
       "Source                    object\n",
       "Destination               object\n",
       "Distance                 float64\n",
       "Delivery_Status          float64\n",
       "dtype: object"
      ]
     },
     "execution_count": 68,
     "metadata": {},
     "output_type": "execute_result"
    }
   ],
   "source": [
    "df1.dtypes"
   ]
  },
  {
   "cell_type": "code",
   "execution_count": 69,
   "metadata": {
    "id": "iIjwlIQZHUGo"
   },
   "outputs": [],
   "source": [
    "numeric_col=df1[\"Distance\"]"
   ]
  },
  {
   "cell_type": "code",
   "execution_count": 70,
   "metadata": {
    "id": "DYvET9uDSgkg"
   },
   "outputs": [],
   "source": [
    "numeric_data=norm_func(numeric_col)"
   ]
  },
  {
   "cell_type": "markdown",
   "metadata": {
    "id": "UdPnqHrjS40M"
   },
   "source": [
    "collecting all the input data into X "
   ]
  },
  {
   "cell_type": "code",
   "execution_count": 71,
   "metadata": {
    "id": "ozl7bjszWYAf"
   },
   "outputs": [],
   "source": [
    "Y=df1['Delivery_Status']"
   ]
  },
  {
   "cell_type": "code",
   "execution_count": 72,
   "metadata": {
    "id": "eizxvNtUSzX3"
   },
   "outputs": [],
   "source": [
    "X=pd.concat([numeric_data,cyc_data,Y], axis=1)\n"
   ]
  },
  {
   "cell_type": "code",
   "execution_count": 73,
   "metadata": {
    "id": "WnPiVtA_TkpA"
   },
   "outputs": [],
   "source": [
    "from sklearn.cluster import\tKMeans"
   ]
  },
  {
   "cell_type": "code",
   "execution_count": 74,
   "metadata": {
    "id": "8pjXiDgCTvi-"
   },
   "outputs": [],
   "source": [
    "###### scree plot or elbow curve ############\n",
    "TWSS = []\n",
    "k = list(range(1,5))"
   ]
  },
  {
   "cell_type": "code",
   "execution_count": 75,
   "metadata": {
    "colab": {
     "base_uri": "https://localhost:8080/"
    },
    "id": "P-n6cltSTxGG",
    "outputId": "c24b14a9-7c88-4904-f3f0-34133acb1362"
   },
   "outputs": [
    {
     "data": {
      "text/plain": [
       "[1719876.6248086805,\n",
       " 1435103.5574500083,\n",
       " 1339021.0320014367,\n",
       " 1279343.0469205603]"
      ]
     },
     "execution_count": 75,
     "metadata": {},
     "output_type": "execute_result"
    }
   ],
   "source": [
    "for i in k:\n",
    "  kmeans = KMeans(n_clusters = i)\n",
    "  kmeans.fit(X)\n",
    "  TWSS.append(kmeans.inertia_)\n",
    "TWSS"
   ]
  },
  {
   "cell_type": "code",
   "execution_count": 76,
   "metadata": {
    "colab": {
     "base_uri": "https://localhost:8080/",
     "height": 308
    },
    "id": "IZJ6v3npVMdL",
    "outputId": "d45f4952-2568-4f37-e07d-285adc1eb358"
   },
   "outputs": [
    {
     "data": {
      "text/plain": [
       "Text(524.4444444444445, 0.5, 'total_within_SS')"
      ]
     },
     "execution_count": 76,
     "metadata": {},
     "output_type": "execute_result"
    }
   ],
   "source": [
    "# Scree plot \n",
    "plt.plot(k, TWSS, 'ro-')\n",
    "plt.xlabel(\"No_of_Clusters\")\n",
    "plt.ylabel(\"total_within_SS\")"
   ]
  },
  {
   "cell_type": "code",
   "execution_count": 77,
   "metadata": {
    "colab": {
     "base_uri": "https://localhost:8080/"
    },
    "id": "Hzpo92GuVTaS",
    "outputId": "1a0a3b39-fd77-48b8-9fba-c60ae8705f4f"
   },
   "outputs": [
    {
     "data": {
      "text/html": [
       "<style>#sk-container-id-1 {color: black;background-color: white;}#sk-container-id-1 pre{padding: 0;}#sk-container-id-1 div.sk-toggleable {background-color: white;}#sk-container-id-1 label.sk-toggleable__label {cursor: pointer;display: block;width: 100%;margin-bottom: 0;padding: 0.3em;box-sizing: border-box;text-align: center;}#sk-container-id-1 label.sk-toggleable__label-arrow:before {content: \"▸\";float: left;margin-right: 0.25em;color: #696969;}#sk-container-id-1 label.sk-toggleable__label-arrow:hover:before {color: black;}#sk-container-id-1 div.sk-estimator:hover label.sk-toggleable__label-arrow:before {color: black;}#sk-container-id-1 div.sk-toggleable__content {max-height: 0;max-width: 0;overflow: hidden;text-align: left;background-color: #f0f8ff;}#sk-container-id-1 div.sk-toggleable__content pre {margin: 0.2em;color: black;border-radius: 0.25em;background-color: #f0f8ff;}#sk-container-id-1 input.sk-toggleable__control:checked~div.sk-toggleable__content {max-height: 200px;max-width: 100%;overflow: auto;}#sk-container-id-1 input.sk-toggleable__control:checked~label.sk-toggleable__label-arrow:before {content: \"▾\";}#sk-container-id-1 div.sk-estimator input.sk-toggleable__control:checked~label.sk-toggleable__label {background-color: #d4ebff;}#sk-container-id-1 div.sk-label input.sk-toggleable__control:checked~label.sk-toggleable__label {background-color: #d4ebff;}#sk-container-id-1 input.sk-hidden--visually {border: 0;clip: rect(1px 1px 1px 1px);clip: rect(1px, 1px, 1px, 1px);height: 1px;margin: -1px;overflow: hidden;padding: 0;position: absolute;width: 1px;}#sk-container-id-1 div.sk-estimator {font-family: monospace;background-color: #f0f8ff;border: 1px dotted black;border-radius: 0.25em;box-sizing: border-box;margin-bottom: 0.5em;}#sk-container-id-1 div.sk-estimator:hover {background-color: #d4ebff;}#sk-container-id-1 div.sk-parallel-item::after {content: \"\";width: 100%;border-bottom: 1px solid gray;flex-grow: 1;}#sk-container-id-1 div.sk-label:hover label.sk-toggleable__label {background-color: #d4ebff;}#sk-container-id-1 div.sk-serial::before {content: \"\";position: absolute;border-left: 1px solid gray;box-sizing: border-box;top: 0;bottom: 0;left: 50%;z-index: 0;}#sk-container-id-1 div.sk-serial {display: flex;flex-direction: column;align-items: center;background-color: white;padding-right: 0.2em;padding-left: 0.2em;position: relative;}#sk-container-id-1 div.sk-item {position: relative;z-index: 1;}#sk-container-id-1 div.sk-parallel {display: flex;align-items: stretch;justify-content: center;background-color: white;position: relative;}#sk-container-id-1 div.sk-item::before, #sk-container-id-1 div.sk-parallel-item::before {content: \"\";position: absolute;border-left: 1px solid gray;box-sizing: border-box;top: 0;bottom: 0;left: 50%;z-index: -1;}#sk-container-id-1 div.sk-parallel-item {display: flex;flex-direction: column;z-index: 1;position: relative;background-color: white;}#sk-container-id-1 div.sk-parallel-item:first-child::after {align-self: flex-end;width: 50%;}#sk-container-id-1 div.sk-parallel-item:last-child::after {align-self: flex-start;width: 50%;}#sk-container-id-1 div.sk-parallel-item:only-child::after {width: 0;}#sk-container-id-1 div.sk-dashed-wrapped {border: 1px dashed gray;margin: 0 0.4em 0.5em 0.4em;box-sizing: border-box;padding-bottom: 0.4em;background-color: white;}#sk-container-id-1 div.sk-label label {font-family: monospace;font-weight: bold;display: inline-block;line-height: 1.2em;}#sk-container-id-1 div.sk-label-container {text-align: center;}#sk-container-id-1 div.sk-container {/* jupyter's `normalize.less` sets `[hidden] { display: none; }` but bootstrap.min.css set `[hidden] { display: none !important; }` so we also need the `!important` here to be able to override the default hidden behavior on the sphinx rendered scikit-learn.org. See: https://github.com/scikit-learn/scikit-learn/issues/21755 */display: inline-block !important;position: relative;}#sk-container-id-1 div.sk-text-repr-fallback {display: none;}</style><div id=\"sk-container-id-1\" class=\"sk-top-container\"><div class=\"sk-text-repr-fallback\"><pre>KMeans(n_clusters=2)</pre><b>In a Jupyter environment, please rerun this cell to show the HTML representation or trust the notebook. <br />On GitHub, the HTML representation is unable to render, please try loading this page with nbviewer.org.</b></div><div class=\"sk-container\" hidden><div class=\"sk-item\"><div class=\"sk-estimator sk-toggleable\"><input class=\"sk-toggleable__control sk-hidden--visually\" id=\"sk-estimator-id-1\" type=\"checkbox\" checked><label for=\"sk-estimator-id-1\" class=\"sk-toggleable__label sk-toggleable__label-arrow\">KMeans</label><div class=\"sk-toggleable__content\"><pre>KMeans(n_clusters=2)</pre></div></div></div></div></div>"
      ],
      "text/plain": [
       "KMeans(n_clusters=2)"
      ]
     },
     "execution_count": 77,
     "metadata": {},
     "output_type": "execute_result"
    }
   ],
   "source": [
    "# Selecting 2 clusters from the above scree plot which is the optimum number of clusters \n",
    "model = KMeans(n_clusters = 2)\n",
    "model.fit(X)"
   ]
  },
  {
   "cell_type": "code",
   "execution_count": 78,
   "metadata": {
    "colab": {
     "base_uri": "https://localhost:8080/",
     "height": 270
    },
    "id": "j5aZiSeUVhAL",
    "outputId": "910b66c0-8cf3-4a5a-eadb-627a074750f9"
   },
   "outputs": [
    {
     "data": {
      "text/html": [
       "<div>\n",
       "<style scoped>\n",
       "    .dataframe tbody tr th:only-of-type {\n",
       "        vertical-align: middle;\n",
       "    }\n",
       "\n",
       "    .dataframe tbody tr th {\n",
       "        vertical-align: top;\n",
       "    }\n",
       "\n",
       "    .dataframe thead th {\n",
       "        text-align: right;\n",
       "    }\n",
       "</style>\n",
       "<table border=\"1\" class=\"dataframe\">\n",
       "  <thead>\n",
       "    <tr style=\"text-align: right;\">\n",
       "      <th></th>\n",
       "      <th>Year</th>\n",
       "      <th>Month</th>\n",
       "      <th>DayofMonth</th>\n",
       "      <th>DayOfWeek</th>\n",
       "      <th>Actual_Shipment_Time</th>\n",
       "      <th>Planned_Shipment_Time</th>\n",
       "      <th>Planned_Delivery_Time</th>\n",
       "      <th>Carrier_Num</th>\n",
       "      <th>Planned_TimeofTravel</th>\n",
       "      <th>Shipment_Delay</th>\n",
       "      <th>Source</th>\n",
       "      <th>Destination</th>\n",
       "      <th>Distance</th>\n",
       "      <th>Delivery_Status</th>\n",
       "      <th>clust</th>\n",
       "    </tr>\n",
       "  </thead>\n",
       "  <tbody>\n",
       "    <tr>\n",
       "      <th>1039382</th>\n",
       "      <td>2008</td>\n",
       "      <td>2</td>\n",
       "      <td>21</td>\n",
       "      <td>4</td>\n",
       "      <td>925.0</td>\n",
       "      <td>930</td>\n",
       "      <td>1054</td>\n",
       "      <td>3774</td>\n",
       "      <td>84.0</td>\n",
       "      <td>-5.0</td>\n",
       "      <td>CVG</td>\n",
       "      <td>DTW</td>\n",
       "      <td>229.0</td>\n",
       "      <td>0.0</td>\n",
       "      <td>NaN</td>\n",
       "    </tr>\n",
       "    <tr>\n",
       "      <th>889189</th>\n",
       "      <td>2008</td>\n",
       "      <td>2</td>\n",
       "      <td>2</td>\n",
       "      <td>6</td>\n",
       "      <td>1745.0</td>\n",
       "      <td>1740</td>\n",
       "      <td>1905</td>\n",
       "      <td>832</td>\n",
       "      <td>85.0</td>\n",
       "      <td>5.0</td>\n",
       "      <td>LAX</td>\n",
       "      <td>SFO</td>\n",
       "      <td>337.0</td>\n",
       "      <td>0.0</td>\n",
       "      <td>NaN</td>\n",
       "    </tr>\n",
       "    <tr>\n",
       "      <th>3512646</th>\n",
       "      <td>2008</td>\n",
       "      <td>6</td>\n",
       "      <td>8</td>\n",
       "      <td>7</td>\n",
       "      <td>1150.0</td>\n",
       "      <td>1150</td>\n",
       "      <td>1250</td>\n",
       "      <td>1797</td>\n",
       "      <td>60.0</td>\n",
       "      <td>0.0</td>\n",
       "      <td>ORD</td>\n",
       "      <td>STL</td>\n",
       "      <td>258.0</td>\n",
       "      <td>0.0</td>\n",
       "      <td>NaN</td>\n",
       "    </tr>\n",
       "    <tr>\n",
       "      <th>973993</th>\n",
       "      <td>2008</td>\n",
       "      <td>2</td>\n",
       "      <td>8</td>\n",
       "      <td>5</td>\n",
       "      <td>1136.0</td>\n",
       "      <td>1140</td>\n",
       "      <td>1240</td>\n",
       "      <td>3521</td>\n",
       "      <td>60.0</td>\n",
       "      <td>-4.0</td>\n",
       "      <td>DFW</td>\n",
       "      <td>FSM</td>\n",
       "      <td>228.0</td>\n",
       "      <td>0.0</td>\n",
       "      <td>NaN</td>\n",
       "    </tr>\n",
       "    <tr>\n",
       "      <th>2736274</th>\n",
       "      <td>2008</td>\n",
       "      <td>5</td>\n",
       "      <td>19</td>\n",
       "      <td>1</td>\n",
       "      <td>722.0</td>\n",
       "      <td>725</td>\n",
       "      <td>912</td>\n",
       "      <td>233</td>\n",
       "      <td>167.0</td>\n",
       "      <td>-3.0</td>\n",
       "      <td>BNA</td>\n",
       "      <td>DEN</td>\n",
       "      <td>1013.0</td>\n",
       "      <td>0.0</td>\n",
       "      <td>NaN</td>\n",
       "    </tr>\n",
       "  </tbody>\n",
       "</table>\n",
       "</div>"
      ],
      "text/plain": [
       "         Year  Month  DayofMonth  DayOfWeek  Actual_Shipment_Time  \\\n",
       "1039382  2008      2          21          4                 925.0   \n",
       "889189   2008      2           2          6                1745.0   \n",
       "3512646  2008      6           8          7                1150.0   \n",
       "973993   2008      2           8          5                1136.0   \n",
       "2736274  2008      5          19          1                 722.0   \n",
       "\n",
       "         Planned_Shipment_Time  Planned_Delivery_Time  Carrier_Num  \\\n",
       "1039382                    930                   1054         3774   \n",
       "889189                    1740                   1905          832   \n",
       "3512646                   1150                   1250         1797   \n",
       "973993                    1140                   1240         3521   \n",
       "2736274                    725                    912          233   \n",
       "\n",
       "         Planned_TimeofTravel  Shipment_Delay Source Destination  Distance  \\\n",
       "1039382                  84.0            -5.0    CVG         DTW     229.0   \n",
       "889189                   85.0             5.0    LAX         SFO     337.0   \n",
       "3512646                  60.0             0.0    ORD         STL     258.0   \n",
       "973993                   60.0            -4.0    DFW         FSM     228.0   \n",
       "2736274                 167.0            -3.0    BNA         DEN    1013.0   \n",
       "\n",
       "         Delivery_Status  clust  \n",
       "1039382              0.0    NaN  \n",
       "889189               0.0    NaN  \n",
       "3512646              0.0    NaN  \n",
       "973993               0.0    NaN  \n",
       "2736274              0.0    NaN  "
      ]
     },
     "execution_count": 78,
     "metadata": {},
     "output_type": "execute_result"
    }
   ],
   "source": [
    "model.labels_                  # getting the labels of clusters assigned to each row \n",
    "mb = pd.Series(model.labels_)  # converting numpy array into pandas series object \n",
    "df1['clust'] = mb              # creating a  new column and assigning it to new column \n",
    "df1.head()"
   ]
  },
  {
   "cell_type": "code",
   "execution_count": 79,
   "metadata": {
    "colab": {
     "base_uri": "https://localhost:8080/",
     "height": 645
    },
    "id": "BzTKtib4XcnO",
    "outputId": "c8e00b8d-cb98-4112-ab79-36db735a6459"
   },
   "outputs": [
    {
     "data": {
      "text/html": [
       "<div>\n",
       "<style scoped>\n",
       "    .dataframe tbody tr th:only-of-type {\n",
       "        vertical-align: middle;\n",
       "    }\n",
       "\n",
       "    .dataframe tbody tr th {\n",
       "        vertical-align: top;\n",
       "    }\n",
       "\n",
       "    .dataframe thead th {\n",
       "        text-align: right;\n",
       "    }\n",
       "</style>\n",
       "<table border=\"1\" class=\"dataframe\">\n",
       "  <thead>\n",
       "    <tr style=\"text-align: right;\">\n",
       "      <th>clust</th>\n",
       "      <th>0.0</th>\n",
       "      <th>1.0</th>\n",
       "    </tr>\n",
       "  </thead>\n",
       "  <tbody>\n",
       "    <tr>\n",
       "      <th>Distance</th>\n",
       "      <td>0.277381</td>\n",
       "      <td>0.282085</td>\n",
       "    </tr>\n",
       "    <tr>\n",
       "      <th>Month_sin</th>\n",
       "      <td>0.866025</td>\n",
       "      <td>0.866025</td>\n",
       "    </tr>\n",
       "    <tr>\n",
       "      <th>Month_cos</th>\n",
       "      <td>0.500000</td>\n",
       "      <td>0.500000</td>\n",
       "    </tr>\n",
       "    <tr>\n",
       "      <th>DayofMonth_sin</th>\n",
       "      <td>0.046468</td>\n",
       "      <td>0.063475</td>\n",
       "    </tr>\n",
       "    <tr>\n",
       "      <th>DayofMonth_cos</th>\n",
       "      <td>-0.056069</td>\n",
       "      <td>-0.067391</td>\n",
       "    </tr>\n",
       "    <tr>\n",
       "      <th>DayOfWeek_sin</th>\n",
       "      <td>0.027673</td>\n",
       "      <td>0.018522</td>\n",
       "    </tr>\n",
       "    <tr>\n",
       "      <th>DayOfWeek_cos</th>\n",
       "      <td>-0.084330</td>\n",
       "      <td>-0.068897</td>\n",
       "    </tr>\n",
       "    <tr>\n",
       "      <th>Actual_Shipment_Time2_sin</th>\n",
       "      <td>0.007901</td>\n",
       "      <td>0.000226</td>\n",
       "    </tr>\n",
       "    <tr>\n",
       "      <th>Actual_Shipment_Time2_cos</th>\n",
       "      <td>0.051984</td>\n",
       "      <td>0.053302</td>\n",
       "    </tr>\n",
       "    <tr>\n",
       "      <th>Actual_Shipment_Time1_sin</th>\n",
       "      <td>-0.114900</td>\n",
       "      <td>-0.115225</td>\n",
       "    </tr>\n",
       "    <tr>\n",
       "      <th>Actual_Shipment_Time1_cos</th>\n",
       "      <td>-0.400217</td>\n",
       "      <td>-0.378147</td>\n",
       "    </tr>\n",
       "    <tr>\n",
       "      <th>Planned_Shipment_Time1_sin</th>\n",
       "      <td>-0.152207</td>\n",
       "      <td>-0.152502</td>\n",
       "    </tr>\n",
       "    <tr>\n",
       "      <th>Planned_Shipment_Time1_cos</th>\n",
       "      <td>-0.374137</td>\n",
       "      <td>-0.349476</td>\n",
       "    </tr>\n",
       "    <tr>\n",
       "      <th>Planned_Shipment_Time2_sin</th>\n",
       "      <td>-0.001223</td>\n",
       "      <td>0.010419</td>\n",
       "    </tr>\n",
       "    <tr>\n",
       "      <th>Planned_Shipment_Time2_cos</th>\n",
       "      <td>0.037419</td>\n",
       "      <td>0.036736</td>\n",
       "    </tr>\n",
       "    <tr>\n",
       "      <th>Planned_Delivery_Time1_sin</th>\n",
       "      <td>-0.309380</td>\n",
       "      <td>-0.295228</td>\n",
       "    </tr>\n",
       "    <tr>\n",
       "      <th>Planned_Delivery_Time1_cos</th>\n",
       "      <td>-0.249564</td>\n",
       "      <td>-0.223214</td>\n",
       "    </tr>\n",
       "    <tr>\n",
       "      <th>Planned_Delivery_Time2_sin</th>\n",
       "      <td>0.003571</td>\n",
       "      <td>-0.006991</td>\n",
       "    </tr>\n",
       "    <tr>\n",
       "      <th>Planned_Delivery_Time2_cos</th>\n",
       "      <td>0.019355</td>\n",
       "      <td>-0.001417</td>\n",
       "    </tr>\n",
       "  </tbody>\n",
       "</table>\n",
       "</div>"
      ],
      "text/plain": [
       "clust                            0.0       1.0\n",
       "Distance                    0.277381  0.282085\n",
       "Month_sin                   0.866025  0.866025\n",
       "Month_cos                   0.500000  0.500000\n",
       "DayofMonth_sin              0.046468  0.063475\n",
       "DayofMonth_cos             -0.056069 -0.067391\n",
       "DayOfWeek_sin               0.027673  0.018522\n",
       "DayOfWeek_cos              -0.084330 -0.068897\n",
       "Actual_Shipment_Time2_sin   0.007901  0.000226\n",
       "Actual_Shipment_Time2_cos   0.051984  0.053302\n",
       "Actual_Shipment_Time1_sin  -0.114900 -0.115225\n",
       "Actual_Shipment_Time1_cos  -0.400217 -0.378147\n",
       "Planned_Shipment_Time1_sin -0.152207 -0.152502\n",
       "Planned_Shipment_Time1_cos -0.374137 -0.349476\n",
       "Planned_Shipment_Time2_sin -0.001223  0.010419\n",
       "Planned_Shipment_Time2_cos  0.037419  0.036736\n",
       "Planned_Delivery_Time1_sin -0.309380 -0.295228\n",
       "Planned_Delivery_Time1_cos -0.249564 -0.223214\n",
       "Planned_Delivery_Time2_sin  0.003571 -0.006991\n",
       "Planned_Delivery_Time2_cos  0.019355 -0.001417"
      ]
     },
     "execution_count": 79,
     "metadata": {},
     "output_type": "execute_result"
    }
   ],
   "source": [
    "mean_ship_delay = X.iloc[:, :-1].groupby(df1.clust).mean()\n",
    "mean_ship_delay.transpose()"
   ]
  },
  {
   "cell_type": "code",
   "execution_count": 80,
   "metadata": {
    "colab": {
     "base_uri": "https://localhost:8080/"
    },
    "id": "NtJTHKLMYR5_",
    "outputId": "5b7b6d0f-217f-4da8-859f-49704910172b"
   },
   "outputs": [
    {
     "data": {
      "text/plain": [
       "<bound method NDFrame.head of          Distance     Month_sin  Month_cos  DayofMonth_sin  DayofMonth_cos  \\\n",
       "1039382  0.105068  8.660254e-01       -0.5       -0.897805       -0.440394   \n",
       "889189   0.162377  8.660254e-01       -0.5        0.394356        0.918958   \n",
       "3512646  0.120456 -2.449294e-16        1.0        0.998717       -0.050649   \n",
       "973993   0.104537  8.660254e-01       -0.5        0.998717       -0.050649   \n",
       "2736274  0.521093 -8.660254e-01        0.5       -0.651372       -0.758758   \n",
       "...           ...           ...        ...             ...             ...   \n",
       "3075874  0.430353 -2.449294e-16        1.0       -0.848644        0.528964   \n",
       "1037017  0.033961  8.660254e-01       -0.5       -0.937752        0.347305   \n",
       "2684875  0.088087 -8.660254e-01        0.5        0.201299        0.979530   \n",
       "3547984  1.000000 -2.449294e-16        1.0       -0.651372       -0.758758   \n",
       "2801337  0.254179 -8.660254e-01        0.5       -0.101168       -0.994869   \n",
       "\n",
       "         DayOfWeek_sin  DayOfWeek_cos  Actual_Shipment_Time2_sin  \\\n",
       "1039382  -4.338837e-01      -0.900969                   0.461093   \n",
       "889189   -7.818315e-01       0.623490                  -0.996812   \n",
       "3512646  -2.449294e-16       1.000000                  -0.818303   \n",
       "973993   -9.749279e-01      -0.222521                  -0.638244   \n",
       "2736274   7.818315e-01       0.623490                   0.716457   \n",
       "...                ...            ...                        ...   \n",
       "3075874  -4.338837e-01      -0.900969                  -0.847734   \n",
       "1037017   7.818315e-01       0.623490                   0.053222   \n",
       "2684875  -4.338837e-01      -0.900969                  -0.461093   \n",
       "3547984  -4.338837e-01      -0.900969                   0.000000   \n",
       "2801337  -9.749279e-01      -0.222521                   0.507666   \n",
       "\n",
       "         Actual_Shipment_Time2_cos  Actual_Shipment_Time1_sin  \\\n",
       "1039382                  -0.887352                   0.707107   \n",
       "889189                    0.079786                  -0.965926   \n",
       "3512646                   0.574787                   0.258819   \n",
       "973993                   -0.769834                   0.258819   \n",
       "2736274                  -0.697632                   0.965926   \n",
       "...                            ...                        ...   \n",
       "3075874                  -0.530421                   1.000000   \n",
       "1037017                  -0.998583                  -0.965926   \n",
       "2684875                  -0.887352                   0.965926   \n",
       "3547984                   1.000000                   0.866025   \n",
       "2801337                   0.861554                  -0.965926   \n",
       "\n",
       "         Actual_Shipment_Time1_cos  Planned_Shipment_Time1_sin  \\\n",
       "1039382              -7.071068e-01                    0.631088   \n",
       "889189               -2.588190e-01                   -0.997669   \n",
       "3512646              -9.659258e-01                    0.136167   \n",
       "973993               -9.659258e-01                    0.136167   \n",
       "2736274              -2.588190e-01                    0.942261   \n",
       "...                            ...                         ...   \n",
       "3075874               6.123234e-17                    0.997669   \n",
       "1037017               2.588190e-01                   -0.887885   \n",
       "2684875              -2.588190e-01                    0.942261   \n",
       "3547984              -5.000000e-01                    0.816970   \n",
       "2801337              -2.588190e-01                   -0.997669   \n",
       "\n",
       "         Planned_Shipment_Time1_cos  Planned_Shipment_Time2_sin  \\\n",
       "1039382                   -0.775711                   -0.053222   \n",
       "889189                    -0.068242                   -0.899312   \n",
       "3512646                   -0.990686                   -0.818303   \n",
       "973993                    -0.990686                   -0.899312   \n",
       "2736274                   -0.334880                    0.461093   \n",
       "...                             ...                         ...   \n",
       "3075874                   -0.068242                   -0.899312   \n",
       "1037017                    0.460065                   -0.461093   \n",
       "2684875                   -0.334880                   -0.552800   \n",
       "3547984                   -0.576680                    0.000000   \n",
       "2801337                   -0.068242                    0.507666   \n",
       "\n",
       "         Planned_Shipment_Time2_cos  Planned_Delivery_Time1_sin  \\\n",
       "1039382                   -0.998583                    0.398401   \n",
       "889189                    -0.437307                   -0.887885   \n",
       "3512646                    0.574787                   -0.136167   \n",
       "973993                    -0.437307                   -0.136167   \n",
       "2736274                   -0.887352                    0.631088   \n",
       "...                             ...                         ...   \n",
       "3075874                   -0.437307                    0.816970   \n",
       "1037017                   -0.887352                   -0.730836   \n",
       "2684875                   -0.833314                    0.816970   \n",
       "3547984                    1.000000                   -0.942261   \n",
       "2801337                    0.861554                   -0.979084   \n",
       "\n",
       "         Planned_Delivery_Time1_cos  Planned_Delivery_Time2_sin  \\\n",
       "1039382                   -0.917211                   -0.507666   \n",
       "889189                     0.460065                    0.507666   \n",
       "3512646                   -0.990686                   -0.818303   \n",
       "973993                    -0.990686                   -0.899312   \n",
       "2736274                   -0.775711                    0.957422   \n",
       "...                             ...                         ...   \n",
       "3075874                   -0.576680                    0.874763   \n",
       "1037017                    0.682553                   -0.899312   \n",
       "2684875                   -0.576680                   -0.552800   \n",
       "3547984                   -0.334880                    0.263103   \n",
       "2801337                    0.203456                   -0.899312   \n",
       "\n",
       "         Planned_Delivery_Time2_cos  Delivery_Status  \n",
       "1039382                    0.861554              0.0  \n",
       "889189                     0.861554              0.0  \n",
       "3512646                    0.574787              0.0  \n",
       "973993                    -0.437307              0.0  \n",
       "2736274                    0.288692              0.0  \n",
       "...                             ...              ...  \n",
       "3075874                    0.484551              0.0  \n",
       "1037017                   -0.437307              0.0  \n",
       "2684875                   -0.833314              0.0  \n",
       "3547984                   -0.964768              0.0  \n",
       "2801337                   -0.437307              0.0  \n",
       "\n",
       "[195439 rows x 20 columns]>"
      ]
     },
     "execution_count": 80,
     "metadata": {},
     "output_type": "execute_result"
    }
   ],
   "source": [
    "X.head"
   ]
  },
  {
   "cell_type": "markdown",
   "metadata": {
    "id": "mDIjaJjJX8_0"
   },
   "source": [
    "Supervised Learning"
   ]
  },
  {
   "cell_type": "code",
   "execution_count": 81,
   "metadata": {
    "id": "kSIeC9d1XxzE"
   },
   "outputs": [],
   "source": [
    "X=X.drop(columns='Delivery_Status')"
   ]
  },
  {
   "cell_type": "code",
   "execution_count": 82,
   "metadata": {
    "id": "SgTKoT9VYlwL"
   },
   "outputs": [],
   "source": [
    "\n",
    "from sklearn.model_selection import train_test_split"
   ]
  },
  {
   "cell_type": "code",
   "execution_count": 83,
   "metadata": {
    "id": "BhaxbKcTYtq9"
   },
   "outputs": [],
   "source": [
    "train_x,test_x,train_y,test_y = train_test_split(X,Y, test_size = 0.3, random_state = 100 ,  shuffle=True)"
   ]
  },
  {
   "cell_type": "code",
   "execution_count": 84,
   "metadata": {
    "colab": {
     "base_uri": "https://localhost:8080/"
    },
    "id": "UXu2A8nrY1LK",
    "outputId": "89a41e62-24de-4624-b5b0-fb424df826cd"
   },
   "outputs": [
    {
     "data": {
      "text/plain": [
       "(136807, 19)"
      ]
     },
     "execution_count": 84,
     "metadata": {},
     "output_type": "execute_result"
    }
   ],
   "source": [
    "train_x.shape"
   ]
  },
  {
   "cell_type": "code",
   "execution_count": 85,
   "metadata": {
    "colab": {
     "base_uri": "https://localhost:8080/"
    },
    "id": "YX8_gPkVY2bv",
    "outputId": "e5299b9d-980a-4d19-e13c-707f344eb994"
   },
   "outputs": [
    {
     "data": {
      "text/plain": [
       "(58632, 19)"
      ]
     },
     "execution_count": 85,
     "metadata": {},
     "output_type": "execute_result"
    }
   ],
   "source": [
    "test_x.shape"
   ]
  },
  {
   "cell_type": "code",
   "execution_count": 86,
   "metadata": {
    "colab": {
     "base_uri": "https://localhost:8080/",
     "height": 357
    },
    "id": "UL2BSNS9Y-bn",
    "outputId": "a79478ba-4758-4268-bdd1-6f3b367c329d"
   },
   "outputs": [
    {
     "data": {
      "text/html": [
       "<div>\n",
       "<style scoped>\n",
       "    .dataframe tbody tr th:only-of-type {\n",
       "        vertical-align: middle;\n",
       "    }\n",
       "\n",
       "    .dataframe tbody tr th {\n",
       "        vertical-align: top;\n",
       "    }\n",
       "\n",
       "    .dataframe thead th {\n",
       "        text-align: right;\n",
       "    }\n",
       "</style>\n",
       "<table border=\"1\" class=\"dataframe\">\n",
       "  <thead>\n",
       "    <tr style=\"text-align: right;\">\n",
       "      <th></th>\n",
       "      <th>Distance</th>\n",
       "      <th>Month_sin</th>\n",
       "      <th>Month_cos</th>\n",
       "      <th>DayofMonth_sin</th>\n",
       "      <th>DayofMonth_cos</th>\n",
       "      <th>DayOfWeek_sin</th>\n",
       "      <th>DayOfWeek_cos</th>\n",
       "      <th>Actual_Shipment_Time2_sin</th>\n",
       "      <th>Actual_Shipment_Time2_cos</th>\n",
       "      <th>Actual_Shipment_Time1_sin</th>\n",
       "      <th>Actual_Shipment_Time1_cos</th>\n",
       "      <th>Planned_Shipment_Time1_sin</th>\n",
       "      <th>Planned_Shipment_Time1_cos</th>\n",
       "      <th>Planned_Shipment_Time2_sin</th>\n",
       "      <th>Planned_Shipment_Time2_cos</th>\n",
       "      <th>Planned_Delivery_Time1_sin</th>\n",
       "      <th>Planned_Delivery_Time1_cos</th>\n",
       "      <th>Planned_Delivery_Time2_sin</th>\n",
       "      <th>Planned_Delivery_Time2_cos</th>\n",
       "    </tr>\n",
       "  </thead>\n",
       "  <tbody>\n",
       "    <tr>\n",
       "      <th>2145815</th>\n",
       "      <td>0.209074</td>\n",
       "      <td>-8.660254e-01</td>\n",
       "      <td>-0.5</td>\n",
       "      <td>6.513725e-01</td>\n",
       "      <td>-0.758758</td>\n",
       "      <td>-7.818315e-01</td>\n",
       "      <td>0.623490</td>\n",
       "      <td>-0.940700</td>\n",
       "      <td>-0.339239</td>\n",
       "      <td>-0.866025</td>\n",
       "      <td>0.500000</td>\n",
       "      <td>-0.730836</td>\n",
       "      <td>0.682553</td>\n",
       "      <td>0.999646</td>\n",
       "      <td>-0.026621</td>\n",
       "      <td>-7.308360e-01</td>\n",
       "      <td>0.682553</td>\n",
       "      <td>-0.996812</td>\n",
       "      <td>0.079786</td>\n",
       "    </tr>\n",
       "    <tr>\n",
       "      <th>3578789</th>\n",
       "      <td>0.617670</td>\n",
       "      <td>-2.449294e-16</td>\n",
       "      <td>1.0</td>\n",
       "      <td>2.993631e-01</td>\n",
       "      <td>-0.954139</td>\n",
       "      <td>-7.818315e-01</td>\n",
       "      <td>0.623490</td>\n",
       "      <td>-0.638244</td>\n",
       "      <td>-0.769834</td>\n",
       "      <td>-0.707107</td>\n",
       "      <td>0.707107</td>\n",
       "      <td>-0.519584</td>\n",
       "      <td>0.854419</td>\n",
       "      <td>-0.996812</td>\n",
       "      <td>0.079786</td>\n",
       "      <td>-2.449294e-16</td>\n",
       "      <td>1.000000</td>\n",
       "      <td>-0.996812</td>\n",
       "      <td>0.079786</td>\n",
       "    </tr>\n",
       "    <tr>\n",
       "      <th>1406282</th>\n",
       "      <td>0.526930</td>\n",
       "      <td>1.224647e-16</td>\n",
       "      <td>-1.0</td>\n",
       "      <td>-7.247928e-01</td>\n",
       "      <td>0.688967</td>\n",
       "      <td>-4.338837e-01</td>\n",
       "      <td>-0.900969</td>\n",
       "      <td>-0.786552</td>\n",
       "      <td>-0.617525</td>\n",
       "      <td>-0.965926</td>\n",
       "      <td>0.258819</td>\n",
       "      <td>-0.887885</td>\n",
       "      <td>0.460065</td>\n",
       "      <td>-0.996812</td>\n",
       "      <td>0.079786</td>\n",
       "      <td>-5.195840e-01</td>\n",
       "      <td>0.854419</td>\n",
       "      <td>-0.899312</td>\n",
       "      <td>-0.437307</td>\n",
       "    </tr>\n",
       "    <tr>\n",
       "      <th>3384010</th>\n",
       "      <td>0.303529</td>\n",
       "      <td>-2.449294e-16</td>\n",
       "      <td>1.0</td>\n",
       "      <td>-9.680771e-01</td>\n",
       "      <td>-0.250653</td>\n",
       "      <td>-2.449294e-16</td>\n",
       "      <td>1.000000</td>\n",
       "      <td>0.159063</td>\n",
       "      <td>-0.987268</td>\n",
       "      <td>-0.707107</td>\n",
       "      <td>0.707107</td>\n",
       "      <td>-0.519584</td>\n",
       "      <td>0.854419</td>\n",
       "      <td>0.000000</td>\n",
       "      <td>1.000000</td>\n",
       "      <td>-2.697968e-01</td>\n",
       "      <td>0.962917</td>\n",
       "      <td>-0.996812</td>\n",
       "      <td>0.079786</td>\n",
       "    </tr>\n",
       "    <tr>\n",
       "      <th>562512</th>\n",
       "      <td>0.094455</td>\n",
       "      <td>8.660254e-01</td>\n",
       "      <td>0.5</td>\n",
       "      <td>-2.449294e-16</td>\n",
       "      <td>1.000000</td>\n",
       "      <td>-4.338837e-01</td>\n",
       "      <td>-0.900969</td>\n",
       "      <td>0.159063</td>\n",
       "      <td>-0.987268</td>\n",
       "      <td>-0.866025</td>\n",
       "      <td>-0.500000</td>\n",
       "      <td>-0.942261</td>\n",
       "      <td>-0.334880</td>\n",
       "      <td>0.999646</td>\n",
       "      <td>-0.026621</td>\n",
       "      <td>-9.976688e-01</td>\n",
       "      <td>-0.068242</td>\n",
       "      <td>0.461093</td>\n",
       "      <td>-0.887352</td>\n",
       "    </tr>\n",
       "  </tbody>\n",
       "</table>\n",
       "</div>"
      ],
      "text/plain": [
       "         Distance     Month_sin  Month_cos  DayofMonth_sin  DayofMonth_cos  \\\n",
       "2145815  0.209074 -8.660254e-01       -0.5    6.513725e-01       -0.758758   \n",
       "3578789  0.617670 -2.449294e-16        1.0    2.993631e-01       -0.954139   \n",
       "1406282  0.526930  1.224647e-16       -1.0   -7.247928e-01        0.688967   \n",
       "3384010  0.303529 -2.449294e-16        1.0   -9.680771e-01       -0.250653   \n",
       "562512   0.094455  8.660254e-01        0.5   -2.449294e-16        1.000000   \n",
       "\n",
       "         DayOfWeek_sin  DayOfWeek_cos  Actual_Shipment_Time2_sin  \\\n",
       "2145815  -7.818315e-01       0.623490                  -0.940700   \n",
       "3578789  -7.818315e-01       0.623490                  -0.638244   \n",
       "1406282  -4.338837e-01      -0.900969                  -0.786552   \n",
       "3384010  -2.449294e-16       1.000000                   0.159063   \n",
       "562512   -4.338837e-01      -0.900969                   0.159063   \n",
       "\n",
       "         Actual_Shipment_Time2_cos  Actual_Shipment_Time1_sin  \\\n",
       "2145815                  -0.339239                  -0.866025   \n",
       "3578789                  -0.769834                  -0.707107   \n",
       "1406282                  -0.617525                  -0.965926   \n",
       "3384010                  -0.987268                  -0.707107   \n",
       "562512                   -0.987268                  -0.866025   \n",
       "\n",
       "         Actual_Shipment_Time1_cos  Planned_Shipment_Time1_sin  \\\n",
       "2145815                   0.500000                   -0.730836   \n",
       "3578789                   0.707107                   -0.519584   \n",
       "1406282                   0.258819                   -0.887885   \n",
       "3384010                   0.707107                   -0.519584   \n",
       "562512                   -0.500000                   -0.942261   \n",
       "\n",
       "         Planned_Shipment_Time1_cos  Planned_Shipment_Time2_sin  \\\n",
       "2145815                    0.682553                    0.999646   \n",
       "3578789                    0.854419                   -0.996812   \n",
       "1406282                    0.460065                   -0.996812   \n",
       "3384010                    0.854419                    0.000000   \n",
       "562512                    -0.334880                    0.999646   \n",
       "\n",
       "         Planned_Shipment_Time2_cos  Planned_Delivery_Time1_sin  \\\n",
       "2145815                   -0.026621               -7.308360e-01   \n",
       "3578789                    0.079786               -2.449294e-16   \n",
       "1406282                    0.079786               -5.195840e-01   \n",
       "3384010                    1.000000               -2.697968e-01   \n",
       "562512                    -0.026621               -9.976688e-01   \n",
       "\n",
       "         Planned_Delivery_Time1_cos  Planned_Delivery_Time2_sin  \\\n",
       "2145815                    0.682553                   -0.996812   \n",
       "3578789                    1.000000                   -0.996812   \n",
       "1406282                    0.854419                   -0.899312   \n",
       "3384010                    0.962917                   -0.996812   \n",
       "562512                    -0.068242                    0.461093   \n",
       "\n",
       "         Planned_Delivery_Time2_cos  \n",
       "2145815                    0.079786  \n",
       "3578789                    0.079786  \n",
       "1406282                   -0.437307  \n",
       "3384010                    0.079786  \n",
       "562512                    -0.887352  "
      ]
     },
     "execution_count": 86,
     "metadata": {},
     "output_type": "execute_result"
    }
   ],
   "source": [
    "train_x.head()"
   ]
  },
  {
   "cell_type": "code",
   "execution_count": 87,
   "metadata": {
    "colab": {
     "base_uri": "https://localhost:8080/",
     "height": 357
    },
    "id": "48KHjw0oZC59",
    "outputId": "7e1e210a-4482-452e-8aec-80a6052672b6"
   },
   "outputs": [
    {
     "data": {
      "text/html": [
       "<div>\n",
       "<style scoped>\n",
       "    .dataframe tbody tr th:only-of-type {\n",
       "        vertical-align: middle;\n",
       "    }\n",
       "\n",
       "    .dataframe tbody tr th {\n",
       "        vertical-align: top;\n",
       "    }\n",
       "\n",
       "    .dataframe thead th {\n",
       "        text-align: right;\n",
       "    }\n",
       "</style>\n",
       "<table border=\"1\" class=\"dataframe\">\n",
       "  <thead>\n",
       "    <tr style=\"text-align: right;\">\n",
       "      <th></th>\n",
       "      <th>Distance</th>\n",
       "      <th>Month_sin</th>\n",
       "      <th>Month_cos</th>\n",
       "      <th>DayofMonth_sin</th>\n",
       "      <th>DayofMonth_cos</th>\n",
       "      <th>DayOfWeek_sin</th>\n",
       "      <th>DayOfWeek_cos</th>\n",
       "      <th>Actual_Shipment_Time2_sin</th>\n",
       "      <th>Actual_Shipment_Time2_cos</th>\n",
       "      <th>Actual_Shipment_Time1_sin</th>\n",
       "      <th>Actual_Shipment_Time1_cos</th>\n",
       "      <th>Planned_Shipment_Time1_sin</th>\n",
       "      <th>Planned_Shipment_Time1_cos</th>\n",
       "      <th>Planned_Shipment_Time2_sin</th>\n",
       "      <th>Planned_Shipment_Time2_cos</th>\n",
       "      <th>Planned_Delivery_Time1_sin</th>\n",
       "      <th>Planned_Delivery_Time1_cos</th>\n",
       "      <th>Planned_Delivery_Time2_sin</th>\n",
       "      <th>Planned_Delivery_Time2_cos</th>\n",
       "    </tr>\n",
       "  </thead>\n",
       "  <tbody>\n",
       "    <tr>\n",
       "      <th>3085205</th>\n",
       "      <td>0.189971</td>\n",
       "      <td>-2.449294e-16</td>\n",
       "      <td>1.0</td>\n",
       "      <td>-0.394356</td>\n",
       "      <td>0.918958</td>\n",
       "      <td>-2.449294e-16</td>\n",
       "      <td>1.000000</td>\n",
       "      <td>-0.752571</td>\n",
       "      <td>0.658511</td>\n",
       "      <td>-0.965926</td>\n",
       "      <td>-0.258819</td>\n",
       "      <td>-0.997669</td>\n",
       "      <td>-0.068242</td>\n",
       "      <td>-0.818303</td>\n",
       "      <td>0.574787</td>\n",
       "      <td>-0.887885</td>\n",
       "      <td>0.460065</td>\n",
       "      <td>0.507666</td>\n",
       "      <td>0.861554</td>\n",
       "    </tr>\n",
       "    <tr>\n",
       "      <th>1667752</th>\n",
       "      <td>0.371982</td>\n",
       "      <td>1.224647e-16</td>\n",
       "      <td>-1.0</td>\n",
       "      <td>0.897805</td>\n",
       "      <td>-0.440394</td>\n",
       "      <td>7.818315e-01</td>\n",
       "      <td>0.623490</td>\n",
       "      <td>0.996812</td>\n",
       "      <td>0.079786</td>\n",
       "      <td>-0.258819</td>\n",
       "      <td>-0.965926</td>\n",
       "      <td>-0.398401</td>\n",
       "      <td>-0.917211</td>\n",
       "      <td>0.999646</td>\n",
       "      <td>-0.026621</td>\n",
       "      <td>-0.942261</td>\n",
       "      <td>-0.334880</td>\n",
       "      <td>0.847734</td>\n",
       "      <td>-0.530421</td>\n",
       "    </tr>\n",
       "    <tr>\n",
       "      <th>2370186</th>\n",
       "      <td>0.485540</td>\n",
       "      <td>-8.660254e-01</td>\n",
       "      <td>-0.5</td>\n",
       "      <td>0.394356</td>\n",
       "      <td>0.918958</td>\n",
       "      <td>4.338837e-01</td>\n",
       "      <td>-0.900969</td>\n",
       "      <td>-0.991153</td>\n",
       "      <td>-0.132726</td>\n",
       "      <td>0.866025</td>\n",
       "      <td>-0.500000</td>\n",
       "      <td>0.816970</td>\n",
       "      <td>-0.576680</td>\n",
       "      <td>-0.996812</td>\n",
       "      <td>0.079786</td>\n",
       "      <td>0.136167</td>\n",
       "      <td>-0.990686</td>\n",
       "      <td>0.940700</td>\n",
       "      <td>-0.339239</td>\n",
       "    </tr>\n",
       "    <tr>\n",
       "      <th>1909404</th>\n",
       "      <td>0.299284</td>\n",
       "      <td>-8.660254e-01</td>\n",
       "      <td>-0.5</td>\n",
       "      <td>-0.201299</td>\n",
       "      <td>0.979530</td>\n",
       "      <td>4.338837e-01</td>\n",
       "      <td>-0.900969</td>\n",
       "      <td>0.053222</td>\n",
       "      <td>-0.998583</td>\n",
       "      <td>0.258819</td>\n",
       "      <td>-0.965926</td>\n",
       "      <td>0.136167</td>\n",
       "      <td>-0.990686</td>\n",
       "      <td>-0.552800</td>\n",
       "      <td>-0.833314</td>\n",
       "      <td>-0.398401</td>\n",
       "      <td>-0.917211</td>\n",
       "      <td>-0.159063</td>\n",
       "      <td>-0.987268</td>\n",
       "    </tr>\n",
       "    <tr>\n",
       "      <th>2676524</th>\n",
       "      <td>0.325285</td>\n",
       "      <td>-8.660254e-01</td>\n",
       "      <td>0.5</td>\n",
       "      <td>-0.848644</td>\n",
       "      <td>0.528964</td>\n",
       "      <td>7.818315e-01</td>\n",
       "      <td>0.623490</td>\n",
       "      <td>0.678312</td>\n",
       "      <td>0.734774</td>\n",
       "      <td>-0.866025</td>\n",
       "      <td>0.500000</td>\n",
       "      <td>-0.730836</td>\n",
       "      <td>0.682553</td>\n",
       "      <td>0.999646</td>\n",
       "      <td>-0.026621</td>\n",
       "      <td>-0.269797</td>\n",
       "      <td>0.962917</td>\n",
       "      <td>0.991153</td>\n",
       "      <td>-0.132726</td>\n",
       "    </tr>\n",
       "  </tbody>\n",
       "</table>\n",
       "</div>"
      ],
      "text/plain": [
       "         Distance     Month_sin  Month_cos  DayofMonth_sin  DayofMonth_cos  \\\n",
       "3085205  0.189971 -2.449294e-16        1.0       -0.394356        0.918958   \n",
       "1667752  0.371982  1.224647e-16       -1.0        0.897805       -0.440394   \n",
       "2370186  0.485540 -8.660254e-01       -0.5        0.394356        0.918958   \n",
       "1909404  0.299284 -8.660254e-01       -0.5       -0.201299        0.979530   \n",
       "2676524  0.325285 -8.660254e-01        0.5       -0.848644        0.528964   \n",
       "\n",
       "         DayOfWeek_sin  DayOfWeek_cos  Actual_Shipment_Time2_sin  \\\n",
       "3085205  -2.449294e-16       1.000000                  -0.752571   \n",
       "1667752   7.818315e-01       0.623490                   0.996812   \n",
       "2370186   4.338837e-01      -0.900969                  -0.991153   \n",
       "1909404   4.338837e-01      -0.900969                   0.053222   \n",
       "2676524   7.818315e-01       0.623490                   0.678312   \n",
       "\n",
       "         Actual_Shipment_Time2_cos  Actual_Shipment_Time1_sin  \\\n",
       "3085205                   0.658511                  -0.965926   \n",
       "1667752                   0.079786                  -0.258819   \n",
       "2370186                  -0.132726                   0.866025   \n",
       "1909404                  -0.998583                   0.258819   \n",
       "2676524                   0.734774                  -0.866025   \n",
       "\n",
       "         Actual_Shipment_Time1_cos  Planned_Shipment_Time1_sin  \\\n",
       "3085205                  -0.258819                   -0.997669   \n",
       "1667752                  -0.965926                   -0.398401   \n",
       "2370186                  -0.500000                    0.816970   \n",
       "1909404                  -0.965926                    0.136167   \n",
       "2676524                   0.500000                   -0.730836   \n",
       "\n",
       "         Planned_Shipment_Time1_cos  Planned_Shipment_Time2_sin  \\\n",
       "3085205                   -0.068242                   -0.818303   \n",
       "1667752                   -0.917211                    0.999646   \n",
       "2370186                   -0.576680                   -0.996812   \n",
       "1909404                   -0.990686                   -0.552800   \n",
       "2676524                    0.682553                    0.999646   \n",
       "\n",
       "         Planned_Shipment_Time2_cos  Planned_Delivery_Time1_sin  \\\n",
       "3085205                    0.574787                   -0.887885   \n",
       "1667752                   -0.026621                   -0.942261   \n",
       "2370186                    0.079786                    0.136167   \n",
       "1909404                   -0.833314                   -0.398401   \n",
       "2676524                   -0.026621                   -0.269797   \n",
       "\n",
       "         Planned_Delivery_Time1_cos  Planned_Delivery_Time2_sin  \\\n",
       "3085205                    0.460065                    0.507666   \n",
       "1667752                   -0.334880                    0.847734   \n",
       "2370186                   -0.990686                    0.940700   \n",
       "1909404                   -0.917211                   -0.159063   \n",
       "2676524                    0.962917                    0.991153   \n",
       "\n",
       "         Planned_Delivery_Time2_cos  \n",
       "3085205                    0.861554  \n",
       "1667752                   -0.530421  \n",
       "2370186                   -0.339239  \n",
       "1909404                   -0.987268  \n",
       "2676524                   -0.132726  "
      ]
     },
     "execution_count": 87,
     "metadata": {},
     "output_type": "execute_result"
    }
   ],
   "source": [
    "\n",
    "\n",
    "test_x.head()"
   ]
  },
  {
   "cell_type": "code",
   "execution_count": 88,
   "metadata": {
    "colab": {
     "base_uri": "https://localhost:8080/"
    },
    "id": "oNaQOhs4ZIRe",
    "outputId": "a55aa2c8-4e59-4cfb-f27b-38799c85b3ea"
   },
   "outputs": [
    {
     "data": {
      "text/plain": [
       "2145815    1.0\n",
       "3578789    0.0\n",
       "1406282    0.0\n",
       "3384010    1.0\n",
       "562512     0.0\n",
       "Name: Delivery_Status, dtype: float64"
      ]
     },
     "execution_count": 88,
     "metadata": {},
     "output_type": "execute_result"
    }
   ],
   "source": [
    "train_y.head()"
   ]
  },
  {
   "cell_type": "markdown",
   "metadata": {
    "id": "KaXxrx2DZWHI"
   },
   "source": []
  },
  {
   "cell_type": "code",
   "execution_count": 89,
   "metadata": {
    "id": "6tV8lHZWaIXK"
   },
   "outputs": [],
   "source": [
    "from sklearn.neighbors import KNeighborsClassifier"
   ]
  },
  {
   "cell_type": "code",
   "execution_count": 90,
   "metadata": {
    "colab": {
     "base_uri": "https://localhost:8080/"
    },
    "id": "bVO_vdA2aK4m",
    "outputId": "b519fa83-be40-4fdd-b1cc-6b050dad1149"
   },
   "outputs": [
    {
     "data": {
      "text/html": [
       "<style>#sk-container-id-2 {color: black;background-color: white;}#sk-container-id-2 pre{padding: 0;}#sk-container-id-2 div.sk-toggleable {background-color: white;}#sk-container-id-2 label.sk-toggleable__label {cursor: pointer;display: block;width: 100%;margin-bottom: 0;padding: 0.3em;box-sizing: border-box;text-align: center;}#sk-container-id-2 label.sk-toggleable__label-arrow:before {content: \"▸\";float: left;margin-right: 0.25em;color: #696969;}#sk-container-id-2 label.sk-toggleable__label-arrow:hover:before {color: black;}#sk-container-id-2 div.sk-estimator:hover label.sk-toggleable__label-arrow:before {color: black;}#sk-container-id-2 div.sk-toggleable__content {max-height: 0;max-width: 0;overflow: hidden;text-align: left;background-color: #f0f8ff;}#sk-container-id-2 div.sk-toggleable__content pre {margin: 0.2em;color: black;border-radius: 0.25em;background-color: #f0f8ff;}#sk-container-id-2 input.sk-toggleable__control:checked~div.sk-toggleable__content {max-height: 200px;max-width: 100%;overflow: auto;}#sk-container-id-2 input.sk-toggleable__control:checked~label.sk-toggleable__label-arrow:before {content: \"▾\";}#sk-container-id-2 div.sk-estimator input.sk-toggleable__control:checked~label.sk-toggleable__label {background-color: #d4ebff;}#sk-container-id-2 div.sk-label input.sk-toggleable__control:checked~label.sk-toggleable__label {background-color: #d4ebff;}#sk-container-id-2 input.sk-hidden--visually {border: 0;clip: rect(1px 1px 1px 1px);clip: rect(1px, 1px, 1px, 1px);height: 1px;margin: -1px;overflow: hidden;padding: 0;position: absolute;width: 1px;}#sk-container-id-2 div.sk-estimator {font-family: monospace;background-color: #f0f8ff;border: 1px dotted black;border-radius: 0.25em;box-sizing: border-box;margin-bottom: 0.5em;}#sk-container-id-2 div.sk-estimator:hover {background-color: #d4ebff;}#sk-container-id-2 div.sk-parallel-item::after {content: \"\";width: 100%;border-bottom: 1px solid gray;flex-grow: 1;}#sk-container-id-2 div.sk-label:hover label.sk-toggleable__label {background-color: #d4ebff;}#sk-container-id-2 div.sk-serial::before {content: \"\";position: absolute;border-left: 1px solid gray;box-sizing: border-box;top: 0;bottom: 0;left: 50%;z-index: 0;}#sk-container-id-2 div.sk-serial {display: flex;flex-direction: column;align-items: center;background-color: white;padding-right: 0.2em;padding-left: 0.2em;position: relative;}#sk-container-id-2 div.sk-item {position: relative;z-index: 1;}#sk-container-id-2 div.sk-parallel {display: flex;align-items: stretch;justify-content: center;background-color: white;position: relative;}#sk-container-id-2 div.sk-item::before, #sk-container-id-2 div.sk-parallel-item::before {content: \"\";position: absolute;border-left: 1px solid gray;box-sizing: border-box;top: 0;bottom: 0;left: 50%;z-index: -1;}#sk-container-id-2 div.sk-parallel-item {display: flex;flex-direction: column;z-index: 1;position: relative;background-color: white;}#sk-container-id-2 div.sk-parallel-item:first-child::after {align-self: flex-end;width: 50%;}#sk-container-id-2 div.sk-parallel-item:last-child::after {align-self: flex-start;width: 50%;}#sk-container-id-2 div.sk-parallel-item:only-child::after {width: 0;}#sk-container-id-2 div.sk-dashed-wrapped {border: 1px dashed gray;margin: 0 0.4em 0.5em 0.4em;box-sizing: border-box;padding-bottom: 0.4em;background-color: white;}#sk-container-id-2 div.sk-label label {font-family: monospace;font-weight: bold;display: inline-block;line-height: 1.2em;}#sk-container-id-2 div.sk-label-container {text-align: center;}#sk-container-id-2 div.sk-container {/* jupyter's `normalize.less` sets `[hidden] { display: none; }` but bootstrap.min.css set `[hidden] { display: none !important; }` so we also need the `!important` here to be able to override the default hidden behavior on the sphinx rendered scikit-learn.org. See: https://github.com/scikit-learn/scikit-learn/issues/21755 */display: inline-block !important;position: relative;}#sk-container-id-2 div.sk-text-repr-fallback {display: none;}</style><div id=\"sk-container-id-2\" class=\"sk-top-container\"><div class=\"sk-text-repr-fallback\"><pre>KNeighborsClassifier(n_neighbors=15)</pre><b>In a Jupyter environment, please rerun this cell to show the HTML representation or trust the notebook. <br />On GitHub, the HTML representation is unable to render, please try loading this page with nbviewer.org.</b></div><div class=\"sk-container\" hidden><div class=\"sk-item\"><div class=\"sk-estimator sk-toggleable\"><input class=\"sk-toggleable__control sk-hidden--visually\" id=\"sk-estimator-id-2\" type=\"checkbox\" checked><label for=\"sk-estimator-id-2\" class=\"sk-toggleable__label sk-toggleable__label-arrow\">KNeighborsClassifier</label><div class=\"sk-toggleable__content\"><pre>KNeighborsClassifier(n_neighbors=15)</pre></div></div></div></div></div>"
      ],
      "text/plain": [
       "KNeighborsClassifier(n_neighbors=15)"
      ]
     },
     "execution_count": 90,
     "metadata": {},
     "output_type": "execute_result"
    }
   ],
   "source": [
    "knn_final = KNeighborsClassifier(n_neighbors = 15)\n",
    "knn_final.fit(train_x, train_y)"
   ]
  },
  {
   "cell_type": "code",
   "execution_count": 91,
   "metadata": {
    "id": "TNM1r60WaRGO"
   },
   "outputs": [],
   "source": [
    "pred = knn_final.predict(test_x)"
   ]
  },
  {
   "cell_type": "code",
   "execution_count": 92,
   "metadata": {
    "id": "Wv_kbUcnf5AA"
   },
   "outputs": [],
   "source": [
    "# Evaluate the model\n",
    "from sklearn.metrics import accuracy_score"
   ]
  },
  {
   "cell_type": "code",
   "execution_count": 93,
   "metadata": {
    "colab": {
     "base_uri": "https://localhost:8080/"
    },
    "id": "Nf5N29MSgDO8",
    "outputId": "8e7b04f2-4e3f-4955-ff4d-7541bbc7082d"
   },
   "outputs": [
    {
     "name": "stdout",
     "output_type": "stream",
     "text": [
      "0.902971073816346\n"
     ]
    }
   ],
   "source": [
    "print(accuracy_score(test_y, pred))"
   ]
  },
  {
   "cell_type": "code",
   "execution_count": 94,
   "metadata": {
    "colab": {
     "base_uri": "https://localhost:8080/",
     "height": 143
    },
    "id": "tjHrVgeXgG9A",
    "outputId": "2373b1cf-6361-46de-c70a-c18e979ed042"
   },
   "outputs": [
    {
     "data": {
      "text/html": [
       "<div>\n",
       "<style scoped>\n",
       "    .dataframe tbody tr th:only-of-type {\n",
       "        vertical-align: middle;\n",
       "    }\n",
       "\n",
       "    .dataframe tbody tr th {\n",
       "        vertical-align: top;\n",
       "    }\n",
       "\n",
       "    .dataframe thead th {\n",
       "        text-align: right;\n",
       "    }\n",
       "</style>\n",
       "<table border=\"1\" class=\"dataframe\">\n",
       "  <thead>\n",
       "    <tr style=\"text-align: right;\">\n",
       "      <th>Predictions</th>\n",
       "      <th>0.0</th>\n",
       "      <th>1.0</th>\n",
       "    </tr>\n",
       "    <tr>\n",
       "      <th>Actual</th>\n",
       "      <th></th>\n",
       "      <th></th>\n",
       "    </tr>\n",
       "  </thead>\n",
       "  <tbody>\n",
       "    <tr>\n",
       "      <th>0.0</th>\n",
       "      <td>46580</td>\n",
       "      <td>198</td>\n",
       "    </tr>\n",
       "    <tr>\n",
       "      <th>1.0</th>\n",
       "      <td>5491</td>\n",
       "      <td>6363</td>\n",
       "    </tr>\n",
       "  </tbody>\n",
       "</table>\n",
       "</div>"
      ],
      "text/plain": [
       "Predictions    0.0   1.0\n",
       "Actual                  \n",
       "0.0          46580   198\n",
       "1.0           5491  6363"
      ]
     },
     "execution_count": 94,
     "metadata": {},
     "output_type": "execute_result"
    }
   ],
   "source": [
    "pd.crosstab(test_y, pred, rownames = ['Actual'], colnames= ['Predictions'])"
   ]
  },
  {
   "cell_type": "code",
   "execution_count": 95,
   "metadata": {
    "id": "35uddHGdgJjx"
   },
   "outputs": [],
   "source": [
    "# error on train data\n",
    "pred_train = knn_final.predict(train_x)"
   ]
  },
  {
   "cell_type": "code",
   "execution_count": 96,
   "metadata": {
    "colab": {
     "base_uri": "https://localhost:8080/"
    },
    "id": "gym4IBIEgQkZ",
    "outputId": "2a42e4fe-d0f3-47f9-99d8-2cf432b89d39"
   },
   "outputs": [
    {
     "name": "stdout",
     "output_type": "stream",
     "text": [
      "0.9119562595481225\n"
     ]
    }
   ],
   "source": [
    "print(accuracy_score(train_y, pred_train))"
   ]
  },
  {
   "cell_type": "code",
   "execution_count": 97,
   "metadata": {
    "colab": {
     "base_uri": "https://localhost:8080/",
     "height": 143
    },
    "id": "3_h7-MEcgRTH",
    "outputId": "e294ea6a-17f8-4223-f9ae-f48f82065180"
   },
   "outputs": [
    {
     "data": {
      "text/html": [
       "<div>\n",
       "<style scoped>\n",
       "    .dataframe tbody tr th:only-of-type {\n",
       "        vertical-align: middle;\n",
       "    }\n",
       "\n",
       "    .dataframe tbody tr th {\n",
       "        vertical-align: top;\n",
       "    }\n",
       "\n",
       "    .dataframe thead th {\n",
       "        text-align: right;\n",
       "    }\n",
       "</style>\n",
       "<table border=\"1\" class=\"dataframe\">\n",
       "  <thead>\n",
       "    <tr style=\"text-align: right;\">\n",
       "      <th>Predictions</th>\n",
       "      <th>0.0</th>\n",
       "      <th>1.0</th>\n",
       "    </tr>\n",
       "    <tr>\n",
       "      <th>Actual</th>\n",
       "      <th></th>\n",
       "      <th></th>\n",
       "    </tr>\n",
       "  </thead>\n",
       "  <tbody>\n",
       "    <tr>\n",
       "      <th>0.0</th>\n",
       "      <td>108535</td>\n",
       "      <td>316</td>\n",
       "    </tr>\n",
       "    <tr>\n",
       "      <th>1.0</th>\n",
       "      <td>11729</td>\n",
       "      <td>16227</td>\n",
       "    </tr>\n",
       "  </tbody>\n",
       "</table>\n",
       "</div>"
      ],
      "text/plain": [
       "Predictions     0.0    1.0\n",
       "Actual                    \n",
       "0.0          108535    316\n",
       "1.0           11729  16227"
      ]
     },
     "execution_count": 97,
     "metadata": {},
     "output_type": "execute_result"
    }
   ],
   "source": [
    "pd.crosstab(train_y, pred_train, rownames=['Actual'], colnames = ['Predictions'])"
   ]
  },
  {
   "cell_type": "code",
   "execution_count": 98,
   "metadata": {
    "id": "6vq9suLzgWN1"
   },
   "outputs": [],
   "source": [
    "## running KNN algorithm for 3 to 20 nearest neighbours(odd numbers) and \n",
    "## storing the accuracy values\n",
    "# import numpy as np\n",
    "# acc=[]\n",
    "# for i in range(3,20,2):\n",
    "#     neigh = KNeighborsClassifier(n_neighbors=i)\n",
    "#     neigh.fit(train_x, train_y)\n",
    "#     train_acc = np.mean(neigh.predict(train_x) == train_y)\n",
    "#     test_acc = np.mean(neigh.predict(test_x) == test_y)\n",
    "#     acc.append([train_acc, test_acc])"
   ]
  },
  {
   "cell_type": "code",
   "execution_count": 99,
   "metadata": {
    "id": "AW3ifEh0gqDn"
   },
   "outputs": [],
   "source": [
    "import matplotlib.pyplot as plt # library to do visualizations"
   ]
  },
  {
   "cell_type": "code",
   "execution_count": 100,
   "metadata": {
    "id": "j5pAe55CgtEl"
   },
   "outputs": [],
   "source": [
    "# # train accuracy plot \n",
    "# plt.plot(np.arange(3,20,2),[i[0] for i in acc],\"ro-\")\n",
    "\n",
    "# # test accuracy plot\n",
    "# plt.plot(np.arange(3,20,2),[i[1] for i in acc],\"bo-\")\n",
    "# plt.xlabel('K-value')\n",
    "# plt.ylabel('Accuracy')"
   ]
  },
  {
   "cell_type": "code",
   "execution_count": 101,
   "metadata": {
    "id": "LkAuWuN1gusN"
   },
   "outputs": [],
   "source": [
    "# knn = KNeighborsClassifier(n_neighbors = 20)\n",
    "# knn.fit(train_x, train_y)"
   ]
  },
  {
   "cell_type": "code",
   "execution_count": 102,
   "metadata": {
    "id": "cTGukvEPhITO"
   },
   "outputs": [],
   "source": [
    "#pred = knn.predict(test_x)"
   ]
  },
  {
   "cell_type": "code",
   "execution_count": 103,
   "metadata": {
    "id": "OpbcNWq5hOki"
   },
   "outputs": [],
   "source": [
    "#print(accuracy_score(test_y, pred))"
   ]
  },
  {
   "cell_type": "code",
   "execution_count": 104,
   "metadata": {
    "id": "66bH9r9phPQR"
   },
   "outputs": [],
   "source": [
    "#pd.crosstab(test_y, pred, rownames = ['Actual'], colnames= ['Predictions'])"
   ]
  },
  {
   "cell_type": "code",
   "execution_count": 105,
   "metadata": {
    "id": "-oRJE5kJhR1L"
   },
   "outputs": [],
   "source": [
    "# error on train data\n",
    "#pred_train = knn.predict(train_x)"
   ]
  },
  {
   "cell_type": "code",
   "execution_count": 106,
   "metadata": {
    "id": "5nSIOz12hXsZ"
   },
   "outputs": [],
   "source": [
    "#print(accuracy_score(train_y, pred_train))"
   ]
  },
  {
   "cell_type": "code",
   "execution_count": 107,
   "metadata": {
    "id": "o2YUqaUghYc9"
   },
   "outputs": [],
   "source": [
    "#pd.crosstab(train_y, pred_train, rownames=['Actual'], colnames = ['Predictions'])"
   ]
  },
  {
   "cell_type": "markdown",
   "metadata": {
    "id": "F-pUZ-BGhd5n"
   },
   "source": [
    "\n",
    "rbf Svm"
   ]
  },
  {
   "cell_type": "code",
   "execution_count": 108,
   "metadata": {
    "colab": {
     "base_uri": "https://localhost:8080/"
    },
    "id": "v8J7yZCVhgcw",
    "outputId": "1bb18662-1082-45e6-c0c1-b2937e28e5e4"
   },
   "outputs": [
    {
     "data": {
      "text/html": [
       "<style>#sk-container-id-3 {color: black;background-color: white;}#sk-container-id-3 pre{padding: 0;}#sk-container-id-3 div.sk-toggleable {background-color: white;}#sk-container-id-3 label.sk-toggleable__label {cursor: pointer;display: block;width: 100%;margin-bottom: 0;padding: 0.3em;box-sizing: border-box;text-align: center;}#sk-container-id-3 label.sk-toggleable__label-arrow:before {content: \"▸\";float: left;margin-right: 0.25em;color: #696969;}#sk-container-id-3 label.sk-toggleable__label-arrow:hover:before {color: black;}#sk-container-id-3 div.sk-estimator:hover label.sk-toggleable__label-arrow:before {color: black;}#sk-container-id-3 div.sk-toggleable__content {max-height: 0;max-width: 0;overflow: hidden;text-align: left;background-color: #f0f8ff;}#sk-container-id-3 div.sk-toggleable__content pre {margin: 0.2em;color: black;border-radius: 0.25em;background-color: #f0f8ff;}#sk-container-id-3 input.sk-toggleable__control:checked~div.sk-toggleable__content {max-height: 200px;max-width: 100%;overflow: auto;}#sk-container-id-3 input.sk-toggleable__control:checked~label.sk-toggleable__label-arrow:before {content: \"▾\";}#sk-container-id-3 div.sk-estimator input.sk-toggleable__control:checked~label.sk-toggleable__label {background-color: #d4ebff;}#sk-container-id-3 div.sk-label input.sk-toggleable__control:checked~label.sk-toggleable__label {background-color: #d4ebff;}#sk-container-id-3 input.sk-hidden--visually {border: 0;clip: rect(1px 1px 1px 1px);clip: rect(1px, 1px, 1px, 1px);height: 1px;margin: -1px;overflow: hidden;padding: 0;position: absolute;width: 1px;}#sk-container-id-3 div.sk-estimator {font-family: monospace;background-color: #f0f8ff;border: 1px dotted black;border-radius: 0.25em;box-sizing: border-box;margin-bottom: 0.5em;}#sk-container-id-3 div.sk-estimator:hover {background-color: #d4ebff;}#sk-container-id-3 div.sk-parallel-item::after {content: \"\";width: 100%;border-bottom: 1px solid gray;flex-grow: 1;}#sk-container-id-3 div.sk-label:hover label.sk-toggleable__label {background-color: #d4ebff;}#sk-container-id-3 div.sk-serial::before {content: \"\";position: absolute;border-left: 1px solid gray;box-sizing: border-box;top: 0;bottom: 0;left: 50%;z-index: 0;}#sk-container-id-3 div.sk-serial {display: flex;flex-direction: column;align-items: center;background-color: white;padding-right: 0.2em;padding-left: 0.2em;position: relative;}#sk-container-id-3 div.sk-item {position: relative;z-index: 1;}#sk-container-id-3 div.sk-parallel {display: flex;align-items: stretch;justify-content: center;background-color: white;position: relative;}#sk-container-id-3 div.sk-item::before, #sk-container-id-3 div.sk-parallel-item::before {content: \"\";position: absolute;border-left: 1px solid gray;box-sizing: border-box;top: 0;bottom: 0;left: 50%;z-index: -1;}#sk-container-id-3 div.sk-parallel-item {display: flex;flex-direction: column;z-index: 1;position: relative;background-color: white;}#sk-container-id-3 div.sk-parallel-item:first-child::after {align-self: flex-end;width: 50%;}#sk-container-id-3 div.sk-parallel-item:last-child::after {align-self: flex-start;width: 50%;}#sk-container-id-3 div.sk-parallel-item:only-child::after {width: 0;}#sk-container-id-3 div.sk-dashed-wrapped {border: 1px dashed gray;margin: 0 0.4em 0.5em 0.4em;box-sizing: border-box;padding-bottom: 0.4em;background-color: white;}#sk-container-id-3 div.sk-label label {font-family: monospace;font-weight: bold;display: inline-block;line-height: 1.2em;}#sk-container-id-3 div.sk-label-container {text-align: center;}#sk-container-id-3 div.sk-container {/* jupyter's `normalize.less` sets `[hidden] { display: none; }` but bootstrap.min.css set `[hidden] { display: none !important; }` so we also need the `!important` here to be able to override the default hidden behavior on the sphinx rendered scikit-learn.org. See: https://github.com/scikit-learn/scikit-learn/issues/21755 */display: inline-block !important;position: relative;}#sk-container-id-3 div.sk-text-repr-fallback {display: none;}</style><div id=\"sk-container-id-3\" class=\"sk-top-container\"><div class=\"sk-text-repr-fallback\"><pre>SVC()</pre><b>In a Jupyter environment, please rerun this cell to show the HTML representation or trust the notebook. <br />On GitHub, the HTML representation is unable to render, please try loading this page with nbviewer.org.</b></div><div class=\"sk-container\" hidden><div class=\"sk-item\"><div class=\"sk-estimator sk-toggleable\"><input class=\"sk-toggleable__control sk-hidden--visually\" id=\"sk-estimator-id-3\" type=\"checkbox\" checked><label for=\"sk-estimator-id-3\" class=\"sk-toggleable__label sk-toggleable__label-arrow\">SVC</label><div class=\"sk-toggleable__content\"><pre>SVC()</pre></div></div></div></div></div>"
      ],
      "text/plain": [
       "SVC()"
      ]
     },
     "execution_count": 108,
     "metadata": {},
     "output_type": "execute_result"
    }
   ],
   "source": [
    "from sklearn.svm import SVC\n",
    "\n",
    "# kernel to be set rbf as it is binary class\n",
    "classifier = SVC(kernel='rbf')\n",
    "\n",
    "# traininf the model\n",
    "classifier.fit(train_x, train_y)"
   ]
  },
  {
   "cell_type": "code",
   "execution_count": 109,
   "metadata": {
    "id": "ttFiNEZrhuaU"
   },
   "outputs": [],
   "source": [
    "# testing the model\n",
    "y_pred = classifier.predict(test_x)"
   ]
  },
  {
   "cell_type": "code",
   "execution_count": 110,
   "metadata": {
    "colab": {
     "base_uri": "https://localhost:8080/"
    },
    "id": "_zHYtmnkiDF_",
    "outputId": "0985836a-ea73-400b-e0fa-6674f4f68ef2"
   },
   "outputs": [
    {
     "name": "stdout",
     "output_type": "stream",
     "text": [
      "0.9812048028380407\n"
     ]
    }
   ],
   "source": [
    "\n",
    "# printing the accuracy of the model\n",
    "print(accuracy_score(test_y, y_pred))"
   ]
  },
  {
   "cell_type": "code",
   "execution_count": 111,
   "metadata": {
    "id": "zHi1MC8oaztv"
   },
   "outputs": [],
   "source": [
    "y_train=classifier.predict(train_x)"
   ]
  },
  {
   "cell_type": "code",
   "execution_count": 112,
   "metadata": {
    "colab": {
     "base_uri": "https://localhost:8080/"
    },
    "id": "f_f7grL9bzdD",
    "outputId": "72ee1ddf-1a6c-4b64-9776-9fc13d8ea36b"
   },
   "outputs": [
    {
     "name": "stdout",
     "output_type": "stream",
     "text": [
      "0.9836338783834161\n"
     ]
    }
   ],
   "source": [
    "print(accuracy_score(train_y, y_train))"
   ]
  },
  {
   "cell_type": "code",
   "execution_count": 162,
   "metadata": {},
   "outputs": [],
   "source": [
    "from sklearn.ensemble import RandomForestClassifier\n",
    "clf = RandomForestClassifier(n_estimators=200,max_depth=16,random_state=0)"
   ]
  },
  {
   "cell_type": "code",
   "execution_count": 163,
   "metadata": {},
   "outputs": [
    {
     "data": {
      "text/html": [
       "<style>#sk-container-id-10 {color: black;background-color: white;}#sk-container-id-10 pre{padding: 0;}#sk-container-id-10 div.sk-toggleable {background-color: white;}#sk-container-id-10 label.sk-toggleable__label {cursor: pointer;display: block;width: 100%;margin-bottom: 0;padding: 0.3em;box-sizing: border-box;text-align: center;}#sk-container-id-10 label.sk-toggleable__label-arrow:before {content: \"▸\";float: left;margin-right: 0.25em;color: #696969;}#sk-container-id-10 label.sk-toggleable__label-arrow:hover:before {color: black;}#sk-container-id-10 div.sk-estimator:hover label.sk-toggleable__label-arrow:before {color: black;}#sk-container-id-10 div.sk-toggleable__content {max-height: 0;max-width: 0;overflow: hidden;text-align: left;background-color: #f0f8ff;}#sk-container-id-10 div.sk-toggleable__content pre {margin: 0.2em;color: black;border-radius: 0.25em;background-color: #f0f8ff;}#sk-container-id-10 input.sk-toggleable__control:checked~div.sk-toggleable__content {max-height: 200px;max-width: 100%;overflow: auto;}#sk-container-id-10 input.sk-toggleable__control:checked~label.sk-toggleable__label-arrow:before {content: \"▾\";}#sk-container-id-10 div.sk-estimator input.sk-toggleable__control:checked~label.sk-toggleable__label {background-color: #d4ebff;}#sk-container-id-10 div.sk-label input.sk-toggleable__control:checked~label.sk-toggleable__label {background-color: #d4ebff;}#sk-container-id-10 input.sk-hidden--visually {border: 0;clip: rect(1px 1px 1px 1px);clip: rect(1px, 1px, 1px, 1px);height: 1px;margin: -1px;overflow: hidden;padding: 0;position: absolute;width: 1px;}#sk-container-id-10 div.sk-estimator {font-family: monospace;background-color: #f0f8ff;border: 1px dotted black;border-radius: 0.25em;box-sizing: border-box;margin-bottom: 0.5em;}#sk-container-id-10 div.sk-estimator:hover {background-color: #d4ebff;}#sk-container-id-10 div.sk-parallel-item::after {content: \"\";width: 100%;border-bottom: 1px solid gray;flex-grow: 1;}#sk-container-id-10 div.sk-label:hover label.sk-toggleable__label {background-color: #d4ebff;}#sk-container-id-10 div.sk-serial::before {content: \"\";position: absolute;border-left: 1px solid gray;box-sizing: border-box;top: 0;bottom: 0;left: 50%;z-index: 0;}#sk-container-id-10 div.sk-serial {display: flex;flex-direction: column;align-items: center;background-color: white;padding-right: 0.2em;padding-left: 0.2em;position: relative;}#sk-container-id-10 div.sk-item {position: relative;z-index: 1;}#sk-container-id-10 div.sk-parallel {display: flex;align-items: stretch;justify-content: center;background-color: white;position: relative;}#sk-container-id-10 div.sk-item::before, #sk-container-id-10 div.sk-parallel-item::before {content: \"\";position: absolute;border-left: 1px solid gray;box-sizing: border-box;top: 0;bottom: 0;left: 50%;z-index: -1;}#sk-container-id-10 div.sk-parallel-item {display: flex;flex-direction: column;z-index: 1;position: relative;background-color: white;}#sk-container-id-10 div.sk-parallel-item:first-child::after {align-self: flex-end;width: 50%;}#sk-container-id-10 div.sk-parallel-item:last-child::after {align-self: flex-start;width: 50%;}#sk-container-id-10 div.sk-parallel-item:only-child::after {width: 0;}#sk-container-id-10 div.sk-dashed-wrapped {border: 1px dashed gray;margin: 0 0.4em 0.5em 0.4em;box-sizing: border-box;padding-bottom: 0.4em;background-color: white;}#sk-container-id-10 div.sk-label label {font-family: monospace;font-weight: bold;display: inline-block;line-height: 1.2em;}#sk-container-id-10 div.sk-label-container {text-align: center;}#sk-container-id-10 div.sk-container {/* jupyter's `normalize.less` sets `[hidden] { display: none; }` but bootstrap.min.css set `[hidden] { display: none !important; }` so we also need the `!important` here to be able to override the default hidden behavior on the sphinx rendered scikit-learn.org. See: https://github.com/scikit-learn/scikit-learn/issues/21755 */display: inline-block !important;position: relative;}#sk-container-id-10 div.sk-text-repr-fallback {display: none;}</style><div id=\"sk-container-id-10\" class=\"sk-top-container\"><div class=\"sk-text-repr-fallback\"><pre>RandomForestClassifier(max_depth=16, n_estimators=200, random_state=0)</pre><b>In a Jupyter environment, please rerun this cell to show the HTML representation or trust the notebook. <br />On GitHub, the HTML representation is unable to render, please try loading this page with nbviewer.org.</b></div><div class=\"sk-container\" hidden><div class=\"sk-item\"><div class=\"sk-estimator sk-toggleable\"><input class=\"sk-toggleable__control sk-hidden--visually\" id=\"sk-estimator-id-12\" type=\"checkbox\" checked><label for=\"sk-estimator-id-12\" class=\"sk-toggleable__label sk-toggleable__label-arrow\">RandomForestClassifier</label><div class=\"sk-toggleable__content\"><pre>RandomForestClassifier(max_depth=16, n_estimators=200, random_state=0)</pre></div></div></div></div></div>"
      ],
      "text/plain": [
       "RandomForestClassifier(max_depth=16, n_estimators=200, random_state=0)"
      ]
     },
     "execution_count": 163,
     "metadata": {},
     "output_type": "execute_result"
    }
   ],
   "source": [
    "clf.fit(train_x,train_y)"
   ]
  },
  {
   "cell_type": "code",
   "execution_count": 164,
   "metadata": {},
   "outputs": [],
   "source": [
    "y_pred =clf.predict(test_x)"
   ]
  },
  {
   "cell_type": "code",
   "execution_count": 165,
   "metadata": {},
   "outputs": [],
   "source": [
    "y_train=clf.predict(train_x)"
   ]
  },
  {
   "cell_type": "code",
   "execution_count": 166,
   "metadata": {},
   "outputs": [],
   "source": [
    "from sklearn import metrics"
   ]
  },
  {
   "cell_type": "code",
   "execution_count": 167,
   "metadata": {},
   "outputs": [
    {
     "data": {
      "text/plain": [
       "0.9554338927548096"
      ]
     },
     "execution_count": 167,
     "metadata": {},
     "output_type": "execute_result"
    }
   ],
   "source": [
    "metrics.accuracy_score(test_y, y_pred)"
   ]
  },
  {
   "cell_type": "code",
   "execution_count": 168,
   "metadata": {},
   "outputs": [
    {
     "data": {
      "text/plain": [
       "0.9847449326423355"
      ]
     },
     "execution_count": 168,
     "metadata": {},
     "output_type": "execute_result"
    }
   ],
   "source": [
    "metrics.accuracy_score(train_y, y_train)"
   ]
  },
  {
   "cell_type": "code",
   "execution_count": 140,
   "metadata": {},
   "outputs": [],
   "source": [
    "# parameters = {\n",
    "#     \"n_estimators\":[5,10,50,100,250],\n",
    "#     \"max_depth\":[2,4,8,16,32,None]\n",
    "    \n",
    "# }"
   ]
  },
  {
   "cell_type": "code",
   "execution_count": 141,
   "metadata": {},
   "outputs": [],
   "source": [
    "# from sklearn.model_selection import GridSearchCV\n"
   ]
  },
  {
   "cell_type": "code",
   "execution_count": 142,
   "metadata": {},
   "outputs": [
    {
     "data": {
      "text/html": [
       "<style>#sk-container-id-7 {color: black;background-color: white;}#sk-container-id-7 pre{padding: 0;}#sk-container-id-7 div.sk-toggleable {background-color: white;}#sk-container-id-7 label.sk-toggleable__label {cursor: pointer;display: block;width: 100%;margin-bottom: 0;padding: 0.3em;box-sizing: border-box;text-align: center;}#sk-container-id-7 label.sk-toggleable__label-arrow:before {content: \"▸\";float: left;margin-right: 0.25em;color: #696969;}#sk-container-id-7 label.sk-toggleable__label-arrow:hover:before {color: black;}#sk-container-id-7 div.sk-estimator:hover label.sk-toggleable__label-arrow:before {color: black;}#sk-container-id-7 div.sk-toggleable__content {max-height: 0;max-width: 0;overflow: hidden;text-align: left;background-color: #f0f8ff;}#sk-container-id-7 div.sk-toggleable__content pre {margin: 0.2em;color: black;border-radius: 0.25em;background-color: #f0f8ff;}#sk-container-id-7 input.sk-toggleable__control:checked~div.sk-toggleable__content {max-height: 200px;max-width: 100%;overflow: auto;}#sk-container-id-7 input.sk-toggleable__control:checked~label.sk-toggleable__label-arrow:before {content: \"▾\";}#sk-container-id-7 div.sk-estimator input.sk-toggleable__control:checked~label.sk-toggleable__label {background-color: #d4ebff;}#sk-container-id-7 div.sk-label input.sk-toggleable__control:checked~label.sk-toggleable__label {background-color: #d4ebff;}#sk-container-id-7 input.sk-hidden--visually {border: 0;clip: rect(1px 1px 1px 1px);clip: rect(1px, 1px, 1px, 1px);height: 1px;margin: -1px;overflow: hidden;padding: 0;position: absolute;width: 1px;}#sk-container-id-7 div.sk-estimator {font-family: monospace;background-color: #f0f8ff;border: 1px dotted black;border-radius: 0.25em;box-sizing: border-box;margin-bottom: 0.5em;}#sk-container-id-7 div.sk-estimator:hover {background-color: #d4ebff;}#sk-container-id-7 div.sk-parallel-item::after {content: \"\";width: 100%;border-bottom: 1px solid gray;flex-grow: 1;}#sk-container-id-7 div.sk-label:hover label.sk-toggleable__label {background-color: #d4ebff;}#sk-container-id-7 div.sk-serial::before {content: \"\";position: absolute;border-left: 1px solid gray;box-sizing: border-box;top: 0;bottom: 0;left: 50%;z-index: 0;}#sk-container-id-7 div.sk-serial {display: flex;flex-direction: column;align-items: center;background-color: white;padding-right: 0.2em;padding-left: 0.2em;position: relative;}#sk-container-id-7 div.sk-item {position: relative;z-index: 1;}#sk-container-id-7 div.sk-parallel {display: flex;align-items: stretch;justify-content: center;background-color: white;position: relative;}#sk-container-id-7 div.sk-item::before, #sk-container-id-7 div.sk-parallel-item::before {content: \"\";position: absolute;border-left: 1px solid gray;box-sizing: border-box;top: 0;bottom: 0;left: 50%;z-index: -1;}#sk-container-id-7 div.sk-parallel-item {display: flex;flex-direction: column;z-index: 1;position: relative;background-color: white;}#sk-container-id-7 div.sk-parallel-item:first-child::after {align-self: flex-end;width: 50%;}#sk-container-id-7 div.sk-parallel-item:last-child::after {align-self: flex-start;width: 50%;}#sk-container-id-7 div.sk-parallel-item:only-child::after {width: 0;}#sk-container-id-7 div.sk-dashed-wrapped {border: 1px dashed gray;margin: 0 0.4em 0.5em 0.4em;box-sizing: border-box;padding-bottom: 0.4em;background-color: white;}#sk-container-id-7 div.sk-label label {font-family: monospace;font-weight: bold;display: inline-block;line-height: 1.2em;}#sk-container-id-7 div.sk-label-container {text-align: center;}#sk-container-id-7 div.sk-container {/* jupyter's `normalize.less` sets `[hidden] { display: none; }` but bootstrap.min.css set `[hidden] { display: none !important; }` so we also need the `!important` here to be able to override the default hidden behavior on the sphinx rendered scikit-learn.org. See: https://github.com/scikit-learn/scikit-learn/issues/21755 */display: inline-block !important;position: relative;}#sk-container-id-7 div.sk-text-repr-fallback {display: none;}</style><div id=\"sk-container-id-7\" class=\"sk-top-container\"><div class=\"sk-text-repr-fallback\"><pre>GridSearchCV(cv=5, estimator=RandomForestClassifier(),\n",
       "             param_grid={&#x27;max_depth&#x27;: [2, 4, 8, 16, 32, None],\n",
       "                         &#x27;n_estimators&#x27;: [5, 10, 50, 100, 250]})</pre><b>In a Jupyter environment, please rerun this cell to show the HTML representation or trust the notebook. <br />On GitHub, the HTML representation is unable to render, please try loading this page with nbviewer.org.</b></div><div class=\"sk-container\" hidden><div class=\"sk-item sk-dashed-wrapped\"><div class=\"sk-label-container\"><div class=\"sk-label sk-toggleable\"><input class=\"sk-toggleable__control sk-hidden--visually\" id=\"sk-estimator-id-7\" type=\"checkbox\" ><label for=\"sk-estimator-id-7\" class=\"sk-toggleable__label sk-toggleable__label-arrow\">GridSearchCV</label><div class=\"sk-toggleable__content\"><pre>GridSearchCV(cv=5, estimator=RandomForestClassifier(),\n",
       "             param_grid={&#x27;max_depth&#x27;: [2, 4, 8, 16, 32, None],\n",
       "                         &#x27;n_estimators&#x27;: [5, 10, 50, 100, 250]})</pre></div></div></div><div class=\"sk-parallel\"><div class=\"sk-parallel-item\"><div class=\"sk-item\"><div class=\"sk-label-container\"><div class=\"sk-label sk-toggleable\"><input class=\"sk-toggleable__control sk-hidden--visually\" id=\"sk-estimator-id-8\" type=\"checkbox\" ><label for=\"sk-estimator-id-8\" class=\"sk-toggleable__label sk-toggleable__label-arrow\">estimator: RandomForestClassifier</label><div class=\"sk-toggleable__content\"><pre>RandomForestClassifier()</pre></div></div></div><div class=\"sk-serial\"><div class=\"sk-item\"><div class=\"sk-estimator sk-toggleable\"><input class=\"sk-toggleable__control sk-hidden--visually\" id=\"sk-estimator-id-9\" type=\"checkbox\" ><label for=\"sk-estimator-id-9\" class=\"sk-toggleable__label sk-toggleable__label-arrow\">RandomForestClassifier</label><div class=\"sk-toggleable__content\"><pre>RandomForestClassifier()</pre></div></div></div></div></div></div></div></div></div></div>"
      ],
      "text/plain": [
       "GridSearchCV(cv=5, estimator=RandomForestClassifier(),\n",
       "             param_grid={'max_depth': [2, 4, 8, 16, 32, None],\n",
       "                         'n_estimators': [5, 10, 50, 100, 250]})"
      ]
     },
     "execution_count": 142,
     "metadata": {},
     "output_type": "execute_result"
    }
   ],
   "source": [
    "# cv = GridSearchCV(RandomForestClassifier(),parameters,cv=5)\n",
    "# cv.fit(train_x,train_y.values.ravel())"
   ]
  },
  {
   "cell_type": "code",
   "execution_count": 143,
   "metadata": {},
   "outputs": [],
   "source": [
    "# def display(results):\n",
    "#     print(f'Best parameters are: {results.best_params_}')\n",
    "#     print(\"\\n\")\n",
    "#     mean_score = results.cv_results_['mean_test_score']\n",
    "#     std_score = results.cv_results_['std_test_score']\n",
    "#     params = results.cv_results_['params']\n",
    "#     for mean,std,params in zip(mean_score,std_score,params):\n",
    "#         print(f'{round(mean,3)} + or -{round(std,3)} for the {params}')"
   ]
  },
  {
   "cell_type": "code",
   "execution_count": 153,
   "metadata": {},
   "outputs": [],
   "source": [
    "#display(cv)"
   ]
  }
 ],
 "metadata": {
  "accelerator": "GPU",
  "colab": {
   "collapsed_sections": [],
   "name": "FEDEX.ipynb",
   "provenance": []
  },
  "gpuClass": "standard",
  "kernelspec": {
   "display_name": "Python 3",
   "language": "python",
   "name": "python3"
  },
  "language_info": {
   "codemirror_mode": {
    "name": "ipython",
    "version": 3
   },
   "file_extension": ".py",
   "mimetype": "text/x-python",
   "name": "python",
   "nbconvert_exporter": "python",
   "pygments_lexer": "ipython3",
   "version": "3.8.3"
  }
 },
 "nbformat": 4,
 "nbformat_minor": 1
}
